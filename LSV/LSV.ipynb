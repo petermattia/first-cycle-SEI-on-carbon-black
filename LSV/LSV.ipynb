{
 "cells": [
  {
   "cell_type": "markdown",
   "metadata": {},
   "source": [
    "# Linear sweep voltammetry (LSV)\n",
    "Peter Attia, October 10 2020\n",
    "\n",
    "This notebook plots the first lithiation of carbon black electrodes as a function of sweep rate."
   ]
  },
  {
   "cell_type": "code",
   "execution_count": 1,
   "metadata": {},
   "outputs": [],
   "source": [
    "import re\n",
    "import glob\n",
    "from pathlib import Path\n",
    "\n",
    "import numpy as np\n",
    "from scipy.signal import savgol_filter\n",
    "from scipy.integrate import cumtrapz\n",
    "import pandas as pd\n",
    "import pint\n",
    "\n",
    "import matplotlib.pyplot as plt\n",
    "import matplotlib.cm as cm\n",
    "from matplotlib import rcParams\n",
    "from matplotlib.ticker import AutoMinorLocator\n",
    "from mpl_toolkits.axes_grid1.inset_locator import inset_axes"
   ]
  },
  {
   "cell_type": "markdown",
   "metadata": {},
   "source": [
    "Set plotting settings:"
   ]
  },
  {
   "cell_type": "code",
   "execution_count": 2,
   "metadata": {},
   "outputs": [],
   "source": [
    "fig_width = 3.25 #ECS spec is 3.25\" width\n",
    "fig_height = (3/4)*fig_width # standard ratio\n",
    "rcParams['lines.markersize'] = 5\n",
    "rcParams['lines.linewidth'] = 1.0\n",
    "rcParams['font.size'] = 7\n",
    "rcParams['legend.fontsize'] = 7\n",
    "rcParams['legend.frameon'] = False\n",
    "rcParams['font.sans-serif'] = 'Arial'\n",
    "rcParams['mathtext.fontset'] = 'custom'\n",
    "rcParams['mathtext.rm'] = 'Arial'\n",
    "rcParams['pdf.fonttype'] = 42\n",
    "rcParams['ps.fonttype'] = 42\n",
    "\n",
    "figpath = Path.cwd().parent / 'figures'"
   ]
  },
  {
   "cell_type": "markdown",
   "metadata": {},
   "source": [
    "## Define pint unit registry and common units\n",
    "\n",
    "In this notebook, I use the `pint` package to reduce unit conversion errors."
   ]
  },
  {
   "cell_type": "code",
   "execution_count": 3,
   "metadata": {},
   "outputs": [],
   "source": [
    "ureg = pint.UnitRegistry()"
   ]
  },
  {
   "cell_type": "markdown",
   "metadata": {},
   "source": [
    "Define typical electrode mass. Unfortunately, the true values were unavailable, so we use nominal masses here:"
   ]
  },
  {
   "cell_type": "code",
   "execution_count": 4,
   "metadata": {},
   "outputs": [],
   "source": [
    "electrode_mass = 0.8 * ureg.mg"
   ]
  },
  {
   "cell_type": "markdown",
   "metadata": {},
   "source": [
    "#### Electrode area\n",
    "\n",
    "Define typical electrode area in cm^2:"
   ]
  },
  {
   "cell_type": "code",
   "execution_count": 5,
   "metadata": {},
   "outputs": [
    {
     "data": {
      "text/html": [
       "\\[496.0\\ centimeter^2\\]"
      ],
      "text/latex": [
       "$496.0\\ \\mathrm{centimeter}^{2}$"
      ],
      "text/plain": [
       "496.0 <Unit('centimeter ** 2')>"
      ]
     },
     "execution_count": 5,
     "metadata": {},
     "output_type": "execute_result"
    }
   ],
   "source": [
    "SSA = 62 * ureg.m ** 2 / ureg.g # specific surface area of carbon black\n",
    "\n",
    "electrode_area = SSA * electrode_mass\n",
    "electrode_area.ito('cm**2')\n",
    "electrode_area"
   ]
  },
  {
   "cell_type": "markdown",
   "metadata": {},
   "source": [
    "## Load data"
   ]
  },
  {
   "cell_type": "code",
   "execution_count": 6,
   "metadata": {},
   "outputs": [
    {
     "data": {
      "text/plain": [
       "[PosixPath('/Users/peter/Documents/GitHub/first-cycle-SEI-on-carbon-black/LSV/cellE_CB_LSV_3mVpermin_CB1.txt'),\n",
       " PosixPath('/Users/peter/Documents/GitHub/first-cycle-SEI-on-carbon-black/LSV/cellF_CB_LSV_10mVpermin_CB2.txt'),\n",
       " PosixPath('/Users/peter/Documents/GitHub/first-cycle-SEI-on-carbon-black/LSV/cellG_CB_LSV_30mVpermin_CB3.txt'),\n",
       " PosixPath('/Users/peter/Documents/GitHub/first-cycle-SEI-on-carbon-black/LSV/cellH_CB_LSV_100mVpermin_CB4.txt'),\n",
       " PosixPath('/Users/peter/Documents/GitHub/first-cycle-SEI-on-carbon-black/LSV/cellI_CB_LSV_300mVpermin_CB5.txt')]"
      ]
     },
     "execution_count": 6,
     "metadata": {},
     "output_type": "execute_result"
    }
   ],
   "source": [
    "file_list = sorted(list((Path.cwd()).glob('*.txt')))\n",
    "file_list"
   ]
  },
  {
   "cell_type": "markdown",
   "metadata": {},
   "source": [
    "#### Sanity check dVdt values and read in speeds"
   ]
  },
  {
   "cell_type": "code",
   "execution_count": 7,
   "metadata": {},
   "outputs": [
    {
     "name": "stdout",
     "output_type": "stream",
     "text": [
      "3 -3.000445268594945 0.6090303352423291 -0.20297998487655372\n",
      "10 -10.002255003113708 0.5378946798955853 -0.0537773411823772\n",
      "30 -29.939482586270127 1.5046745942106194 -0.05025720100121718\n",
      "100 -100.02010430021092 0.6232664014496389 -0.006231411232874754\n",
      "300 -300.05609981459264 0.7598870161055383 -0.002532483147568336\n"
     ]
    },
    {
     "data": {
      "text/plain": [
       "Text(0, 0.5, 'Voltage')"
      ]
     },
     "execution_count": 7,
     "metadata": {},
     "output_type": "execute_result"
    },
    {
     "data": {
      "image/png": "[encoded data removed]",
      "text/plain": [
       "<Figure size 432x288 with 1 Axes>"
      ]
     },
     "metadata": {
      "needs_background": "light"
     },
     "output_type": "display_data"
    }
   ],
   "source": [
    "speeds = np.zeros((len(file_list), ))\n",
    "\n",
    "for k, file in enumerate(file_list):\n",
    "    data = np.genfromtxt(file, delimiter='\\t', skip_header=True)\n",
    "    speed = int(re.findall(r'\\d+', str(file).split('_')[3])[0])\n",
    "    speeds[k] = speed\n",
    "    \n",
    "    UCV = 1.2\n",
    "    idx1 = np.where(data[:,2] < UCV)[0][0]\n",
    "    data = data[idx1:]\n",
    "    idx2 = np.where(data[:,0] == 1)[0][0]\n",
    "    data = data[:idx2]\n",
    "    \n",
    "    dVdt = np.gradient(data[:,2] * 1000) / np.gradient(data[:,1] / 60) # V/s -> mV/min\n",
    "    \n",
    "    mean = np.mean(dVdt)\n",
    "    std = np.std(dVdt)\n",
    "    print(speed , mean, std, std/mean)\n",
    "    \n",
    "    plt.plot(data[:,1] - data[0,1], data[:,2])\n",
    "    \n",
    "plt.xlabel('Time')\n",
    "plt.ylabel('Voltage')"
   ]
  },
  {
   "cell_type": "markdown",
   "metadata": {},
   "source": [
    "Add speed units from `pint`:"
   ]
  },
  {
   "cell_type": "code",
   "execution_count": 8,
   "metadata": {},
   "outputs": [
    {
     "data": {
      "text/html": [
       "\\[\\begin{pmatrix}3.0 & 10.0 & 30.0 & 100.0 & 300.0\\end{pmatrix} millivolt/minute\\]"
      ],
      "text/latex": [
       "$\\begin{pmatrix}3.0 & 10.0 & 30.0 & 100.0 & 300.0\\end{pmatrix}\\ \\frac{\\mathrm{millivolt}}{\\mathrm{minute}}$"
      ],
      "text/plain": [
       "array([  3.,  10.,  30., 100., 300.]) <Unit('millivolt / minute')>"
      ]
     },
     "execution_count": 8,
     "metadata": {},
     "output_type": "execute_result"
    }
   ],
   "source": [
    "speeds_units = np.asarray(speeds) * ureg.mV / ureg.min\n",
    "speeds_units"
   ]
  },
  {
   "cell_type": "markdown",
   "metadata": {},
   "source": [
    "Default speed units should be V/s:"
   ]
  },
  {
   "cell_type": "code",
   "execution_count": 9,
   "metadata": {},
   "outputs": [
    {
     "data": {
      "text/html": [
       "\\[\\begin{pmatrix}5×10^{-5} & 0.0001666666666666667 & 0.0005 & 0.0016666666666666668 & 0.005\\end{pmatrix} volt/second\\]"
      ],
      "text/latex": [
       "$\\begin{pmatrix}5\\times 10^{-5} & 0.0001666666666666667 & 0.0005 & 0.0016666666666666668 & 0.005\\end{pmatrix}\\ \\frac{\\mathrm{volt}}{\\mathrm{second}}$"
      ],
      "text/plain": [
       "array([5.00000000e-05, 1.66666667e-04, 5.00000000e-04, 1.66666667e-03,\n",
       "       5.00000000e-03]) <Unit('volt / second')>"
      ]
     },
     "execution_count": 9,
     "metadata": {},
     "output_type": "execute_result"
    }
   ],
   "source": [
    "speeds_units.ito('V/s')\n",
    "speeds_units"
   ]
  },
  {
   "cell_type": "markdown",
   "metadata": {},
   "source": [
    "## Create $\\Delta I$ to determine baseline currents\n",
    "\n",
    "One of the challenges with this system is deconvoluting the EC reduction reaction from the carbon black intercalation reaction. We get around this by subtracting the first lithiation from the second lithiation to bypass this. Then, to get the actual peak current values, I manually define values for the baseline by voltage:"
   ]
  },
  {
   "cell_type": "code",
   "execution_count": 10,
   "metadata": {},
   "outputs": [],
   "source": [
    "V_baselines = [0.98, 0.9, 0.8, 0.61, 0.46]"
   ]
  },
  {
   "cell_type": "markdown",
   "metadata": {},
   "source": [
    "Define a standard voltage basis vector for interpolation:"
   ]
  },
  {
   "cell_type": "code",
   "execution_count": 11,
   "metadata": {},
   "outputs": [],
   "source": [
    "Vlin = np.linspace(0, 1.2, 1000)"
   ]
  },
  {
   "cell_type": "markdown",
   "metadata": {},
   "source": [
    "Preinitialize:"
   ]
  },
  {
   "cell_type": "code",
   "execution_count": 12,
   "metadata": {},
   "outputs": [],
   "source": [
    "I_baseline = np.zeros((5,))\n",
    "I_peak = np.zeros((5,))\n",
    "V_peak = np.zeros((5,))"
   ]
  },
  {
   "cell_type": "markdown",
   "metadata": {},
   "source": [
    "Create plot:"
   ]
  },
  {
   "cell_type": "code",
   "execution_count": 13,
   "metadata": {},
   "outputs": [
    {
     "data": {
      "image/png": "[encoded data removed]",
      "text/plain": [
       "<Figure size 468x351 with 6 Axes>"
      ]
     },
     "metadata": {
      "needs_background": "light"
     },
     "output_type": "display_data"
    }
   ],
   "source": [
    "fig, ax = plt.subplots(figsize=(fig_width*2, fig_height*2), nrows=2, ncols=3)\n",
    "ax = ax.ravel()\n",
    "\n",
    "colors = cm.viridis(np.linspace(0.9, 0.3, 5))[:,0:3]\n",
    "\n",
    "for k, file in enumerate(file_list):\n",
    "    data = np.genfromtxt(file, delimiter='\\t', skip_header=True)\n",
    "    \n",
    "    # Find first and second lithiations.\n",
    "    # data[:,0] indicates the redox mode\n",
    "    idx = np.where(data[:,0] == 0)[0]\n",
    "    \n",
    "    # transition_point = index splitting first and second lithiations\n",
    "    transition_point = idx[:-1][np.diff(idx) != 1][0]\n",
    "    idx1 = idx[idx < transition_point]\n",
    "    idx2 = idx[idx > transition_point]\n",
    "    data1 = np.flip(data[idx1], axis=0)\n",
    "    data2 = np.flip(data[idx2], axis=0)\n",
    "\n",
    "    # create linearly interpolated current vectors to enable direct subtraction\n",
    "    mass_in_mg = electrode_mass.to('mg').magnitude\n",
    "    Ilin1 = np.interp(Vlin, data1[:,2], data1[:,3] / mass_in_mg)\n",
    "    Ilin2 = np.interp(Vlin, data2[:,2], data2[:,3] / mass_in_mg)\n",
    "    \n",
    "    # Create DeltaI\n",
    "    DeltaI = Ilin1 - Ilin2\n",
    "    \n",
    "    # Find peak current and voltage\n",
    "    peak_idx = np.argmin(DeltaI)\n",
    "    I_peak[k] = DeltaI[peak_idx]\n",
    "    V_peak[k] = Vlin[peak_idx]\n",
    "    \n",
    "    # Identify baseline current from manually selected baseline voltage\n",
    "    idx_baseline = np.where(Vlin > V_baselines[k])[0][0]\n",
    "    I_baseline[k] = DeltaI[idx_baseline]\n",
    "    \n",
    "    # Downsample first data series\n",
    "    if k == 0:\n",
    "        V1, I1 = data1[::5,2], data1[::5,3] / mass_in_mg\n",
    "        V2, I2 = data2[::5,2], data2[::5,3] / mass_in_mg\n",
    "    else:\n",
    "        V1, I1 = data1[:,2], data1[:,3] / mass_in_mg\n",
    "        V2, I2 = data2[:,2], data2[:,3] / mass_in_mg\n",
    "    \n",
    "    # Plot\n",
    "    ax[k].plot(V1, I1, '--', color=colors[k], label='$I_{lith1}$')\n",
    "    ax[k].plot(V2, I2, ':', color=colors[k], label='$I_{lith2}$')\n",
    "    ax[k].plot(Vlin, DeltaI, color='k', label=r'$\\Delta I_{lith1-lith2}$')\n",
    "    ax[k].plot(V_peak[k], I_peak[k], 'vk', label=r'$\\Delta I_{peak, lith1-lith2}$')\n",
    "    ax[k].plot(V_baselines[k], I_baseline[k], '*k', label=r'$\\Delta I_{baseline, lith1-lith2}$')\n",
    "    \n",
    "    # Plot settings\n",
    "    ax[k].set_xlim([0, 1.2])\n",
    "    ax[k].set_ylim(top=0)\n",
    "    ax[k].set_xlabel('Voltage (V)')\n",
    "    ax[k].set_ylabel('Current (A g$^{-1}$)')\n",
    "    ax[k].set_title(chr(97+k), loc='left', weight='bold')\n",
    "\n",
    "ax[5].axis('off')\n",
    "ax[5].plot([-2, -1], [-2, -1], '--k', label='$I_{lith1}$')\n",
    "ax[5].plot([-2, -1], [-2, -1], ':k', label='$I_{lith2}$')\n",
    "ax[5].plot([-2, -1], [-2, -1], 'k', label=r'$\\Delta I_{lith1-lith2}$')\n",
    "ax[5].plot(-1, -1, 'vk', label=r'$\\Delta I_{peak, lith1-lith2}$')\n",
    "ax[5].plot(-1, -1, '*k', label=r'$\\Delta I_{baseline, lith1-lith2}$')\n",
    "ax[5].set_xlim([0, 1])\n",
    "ax[5].set_ylim([0, 1])\n",
    "ax[5].legend(loc='center left', bbox_to_anchor=(-0.5, 0.5))\n",
    "\n",
    "plt.tight_layout()\n",
    "plt.savefig(figpath / 'LSV_baselines.eps', bbox_inches='tight', format='eps')"
   ]
  },
  {
   "cell_type": "markdown",
   "metadata": {},
   "source": [
    "Define `I_peak_minus_I_baseline` (take negative to make positive):"
   ]
  },
  {
   "cell_type": "code",
   "execution_count": 14,
   "metadata": {},
   "outputs": [],
   "source": [
    "I_peak_minus_I_baseline = -(I_peak - I_baseline)"
   ]
  },
  {
   "cell_type": "markdown",
   "metadata": {},
   "source": [
    "## Compare to galvanostatic experiments\n",
    "\n",
    "Code adapted from C rate notebook"
   ]
  },
  {
   "cell_type": "markdown",
   "metadata": {},
   "source": [
    "### Load metadata"
   ]
  },
  {
   "cell_type": "code",
   "execution_count": 15,
   "metadata": {},
   "outputs": [
    {
     "data": {
      "text/html": [
       "<div>\n",
       "<style scoped>\n",
       "    .dataframe tbody tr th:only-of-type {\n",
       "        vertical-align: middle;\n",
       "    }\n",
       "\n",
       "    .dataframe tbody tr th {\n",
       "        vertical-align: top;\n",
       "    }\n",
       "\n",
       "    .dataframe thead th {\n",
       "        text-align: right;\n",
       "    }\n",
       "</style>\n",
       "<table border=\"1\" class=\"dataframe\">\n",
       "  <thead>\n",
       "    <tr style=\"text-align: right;\">\n",
       "      <th></th>\n",
       "      <th>File name</th>\n",
       "      <th>Mass (mg)</th>\n",
       "      <th>C rate</th>\n",
       "    </tr>\n",
       "  </thead>\n",
       "  <tbody>\n",
       "    <tr>\n",
       "      <th>0</th>\n",
       "      <td>cellA_Cover100_split_CA1</td>\n",
       "      <td>0.977</td>\n",
       "      <td>0.010000</td>\n",
       "    </tr>\n",
       "    <tr>\n",
       "      <th>1</th>\n",
       "      <td>cellA_Cover100_CC4</td>\n",
       "      <td>0.548</td>\n",
       "      <td>0.010000</td>\n",
       "    </tr>\n",
       "    <tr>\n",
       "      <th>2</th>\n",
       "      <td>cellC_Cover30_split_CC5</td>\n",
       "      <td>0.914</td>\n",
       "      <td>0.033333</td>\n",
       "    </tr>\n",
       "    <tr>\n",
       "      <th>3</th>\n",
       "      <td>cellD_Cover30_CC6</td>\n",
       "      <td>0.845</td>\n",
       "      <td>0.033333</td>\n",
       "    </tr>\n",
       "    <tr>\n",
       "      <th>4</th>\n",
       "      <td>cellA_Cover10_CC7</td>\n",
       "      <td>0.776</td>\n",
       "      <td>0.100000</td>\n",
       "    </tr>\n",
       "    <tr>\n",
       "      <th>5</th>\n",
       "      <td>cellE_Cover3_split_CC8</td>\n",
       "      <td>0.809</td>\n",
       "      <td>0.333333</td>\n",
       "    </tr>\n",
       "    <tr>\n",
       "      <th>6</th>\n",
       "      <td>cellC_Cover3_CF6</td>\n",
       "      <td>0.583</td>\n",
       "      <td>0.333333</td>\n",
       "    </tr>\n",
       "    <tr>\n",
       "      <th>7</th>\n",
       "      <td>cellG_1C_split_CD3</td>\n",
       "      <td>0.468</td>\n",
       "      <td>1.000000</td>\n",
       "    </tr>\n",
       "    <tr>\n",
       "      <th>8</th>\n",
       "      <td>cellM_1C_CD5</td>\n",
       "      <td>0.743</td>\n",
       "      <td>1.000000</td>\n",
       "    </tr>\n",
       "    <tr>\n",
       "      <th>9</th>\n",
       "      <td>cellF_3C_split_CF6</td>\n",
       "      <td>1.011</td>\n",
       "      <td>3.000000</td>\n",
       "    </tr>\n",
       "    <tr>\n",
       "      <th>10</th>\n",
       "      <td>cellJ_3C_CD8</td>\n",
       "      <td>0.927</td>\n",
       "      <td>3.000000</td>\n",
       "    </tr>\n",
       "    <tr>\n",
       "      <th>11</th>\n",
       "      <td>cellK_10C_split_CF1</td>\n",
       "      <td>0.868</td>\n",
       "      <td>10.000000</td>\n",
       "    </tr>\n",
       "    <tr>\n",
       "      <th>12</th>\n",
       "      <td>cellC_10C_CF3</td>\n",
       "      <td>0.872</td>\n",
       "      <td>10.000000</td>\n",
       "    </tr>\n",
       "  </tbody>\n",
       "</table>\n",
       "</div>"
      ],
      "text/plain": [
       "                   File name  Mass (mg)     C rate\n",
       "0   cellA_Cover100_split_CA1      0.977   0.010000\n",
       "1         cellA_Cover100_CC4      0.548   0.010000\n",
       "2    cellC_Cover30_split_CC5      0.914   0.033333\n",
       "3          cellD_Cover30_CC6      0.845   0.033333\n",
       "4          cellA_Cover10_CC7      0.776   0.100000\n",
       "5     cellE_Cover3_split_CC8      0.809   0.333333\n",
       "6           cellC_Cover3_CF6      0.583   0.333333\n",
       "7         cellG_1C_split_CD3      0.468   1.000000\n",
       "8               cellM_1C_CD5      0.743   1.000000\n",
       "9         cellF_3C_split_CF6      1.011   3.000000\n",
       "10              cellJ_3C_CD8      0.927   3.000000\n",
       "11       cellK_10C_split_CF1      0.868  10.000000\n",
       "12             cellC_10C_CF3      0.872  10.000000"
      ]
     },
     "execution_count": 15,
     "metadata": {},
     "output_type": "execute_result"
    }
   ],
   "source": [
    "metadata = pd.read_csv(Path.cwd().parent / 'c rate' / 'masses.csv')\n",
    "metadata"
   ]
  },
  {
   "cell_type": "markdown",
   "metadata": {},
   "source": [
    "### Load constant current data\n",
    "Get data:"
   ]
  },
  {
   "cell_type": "code",
   "execution_count": 16,
   "metadata": {},
   "outputs": [
    {
     "data": {
      "text/plain": [
       "[PosixPath('/Users/peter/Documents/GitHub/first-cycle-SEI-on-carbon-black/c rate/constant current data/cellA_Cover100_CC4.txt'),\n",
       " PosixPath('/Users/peter/Documents/GitHub/first-cycle-SEI-on-carbon-black/c rate/constant current data/cellJ_3C_CD8.txt'),\n",
       " PosixPath('/Users/peter/Documents/GitHub/first-cycle-SEI-on-carbon-black/c rate/constant current data/cellM_1C_CD5.txt'),\n",
       " PosixPath('/Users/peter/Documents/GitHub/first-cycle-SEI-on-carbon-black/c rate/constant current data/cellC_Cover3_CF6.txt'),\n",
       " PosixPath('/Users/peter/Documents/GitHub/first-cycle-SEI-on-carbon-black/c rate/constant current data/cellD_Cover30_CC6.txt'),\n",
       " PosixPath('/Users/peter/Documents/GitHub/first-cycle-SEI-on-carbon-black/c rate/constant current data/cellC_10C_CF3.txt'),\n",
       " PosixPath('/Users/peter/Documents/GitHub/first-cycle-SEI-on-carbon-black/c rate/constant current data/cellA_Cover10_CC7.txt')]"
      ]
     },
     "execution_count": 16,
     "metadata": {},
     "output_type": "execute_result"
    }
   ],
   "source": [
    "files_constcurr = list((Path.cwd().parent / 'c rate' / 'constant current data').glob('*.txt'))\n",
    "files_constcurr"
   ]
  },
  {
   "cell_type": "markdown",
   "metadata": {},
   "source": [
    "Parse and process:"
   ]
  },
  {
   "cell_type": "code",
   "execution_count": 17,
   "metadata": {},
   "outputs": [
    {
     "name": "stdout",
     "output_type": "stream",
     "text": [
      "cellA_Cover100_CC4: 0.01, C/100\n",
      "cellJ_3C_CD8: 3, 3C\n",
      "cellM_1C_CD5: 1, 1C\n",
      "cellC_Cover3_CF6: 0.3333333333333333, C/3\n",
      "cellD_Cover30_CC6: 0.03333333333333333, C/30\n",
      "cellC_10C_CF3: 10, 10C\n",
      "cellA_Cover10_CC7: 0.1, C/10\n"
     ]
    }
   ],
   "source": [
    "all_data_constcurr = {}\n",
    "\n",
    "for file in files_constcurr:\n",
    "    \n",
    "    sub_dict = {}\n",
    "    \n",
    "    # C rate parsing\n",
    "    C_rate = int(re.findall(r'\\d+', file.name.split('_')[1])[0])\n",
    "    C_rate_string = file.name.split('_')[1].replace('over', '/')\n",
    "    \n",
    "    if 'Cover' in file.name:\n",
    "        C_rate = 1 / C_rate\n",
    "    \n",
    "    # Logging\n",
    "    print(f'{file.stem}: {C_rate}, {C_rate_string}')\n",
    "    \n",
    "    # Load data\n",
    "    data = np.loadtxt(file, skiprows=1)\n",
    "    \n",
    "    # Get mass\n",
    "    mass = metadata[metadata['File name'] == file.stem]['Mass (mg)'].iloc[0] / 1000 # mg -> g\n",
    "    \n",
    "    # Normalize capacity by mass\n",
    "    data[:, 2] = data[:, 2] / mass # mAh -> mAh/g\n",
    "    \n",
    "    # Index different cycle numbers\n",
    "    first_lith_idx = np.where(data[:, 0] == 1)[0][0]\n",
    "    second_cycle_idx = np.where(data[:, 0] == 2)[0][0]\n",
    "    second_lith_idx = first_lith_idx + np.where(data[first_lith_idx:second_cycle_idx, 1] == np.max(data[first_lith_idx:second_cycle_idx, 1]))[0][0]\n",
    "    try:\n",
    "        third_cycle_idx = np.where(data[:, 0] == 3)[0][0]\n",
    "        third_lith_idx = second_cycle_idx + np.where(data[second_cycle_idx:third_cycle_idx, 1] == np.max(data[second_cycle_idx:third_cycle_idx, 1]))[0][0]\n",
    "    except IndexError: # 10C data has only 2 cycles\n",
    "        third_lith_idx = second_cycle_idx + np.where(data[second_cycle_idx:, 1] == np.max(data[second_cycle_idx:, 1]))[0][0]\n",
    "    \n",
    "    # Extract (de)lith steps\n",
    "    first_lith_data = data[:first_lith_idx]\n",
    "    \n",
    "    # Create dictionary    \n",
    "    sub_dict['First lith data'] = first_lith_data\n",
    "    sub_dict['C rate'] = C_rate\n",
    "    sub_dict['C rate string'] = C_rate_string\n",
    "        \n",
    "    # Append to main dictionary. We only want the high-rate data in this case tho\n",
    "    if C_rate > 0.9:\n",
    "        all_data_constcurr[file.stem] = sub_dict\n",
    "\n",
    "# Sort\n",
    "all_data_constcurr = {k: v for k, v in sorted(all_data_constcurr.items(), key=lambda item: item[1]['C rate'])}"
   ]
  },
  {
   "cell_type": "markdown",
   "metadata": {},
   "source": [
    "## Create final plot"
   ]
  },
  {
   "cell_type": "code",
   "execution_count": 18,
   "metadata": {},
   "outputs": [
    {
     "name": "stdout",
     "output_type": "stream",
     "text": [
      "Starting cellE_CB_LSV_3mVpermin_CB1\n",
      "3 0.7793227066666666 0.08909758142340239\n",
      "Starting cellF_CB_LSV_10mVpermin_CB2\n",
      "10 0.6993227066666665 0.21644145005892365\n",
      "Starting cellG_CB_LSV_30mVpermin_CB3\n",
      "30 0.630229116190476 0.5519180860311999\n",
      "Starting cellH_CB_LSV_100mVpermin_CB4\n",
      "100 0.39215571 0.892285313297938\n",
      "Starting cellI_CB_LSV_300mVpermin_CB5\n",
      "300 0.22620249 2.14896928123254\n"
     ]
    },
    {
     "name": "stderr",
     "output_type": "stream",
     "text": [
      "/Users/peter/anaconda3/lib/python3.7/site-packages/numpy/lib/function_base.py:1061: RuntimeWarning: divide by zero encountered in true_divide\n",
      "  a = -(dx2)/(dx1 * (dx1 + dx2))\n",
      "/Users/peter/anaconda3/lib/python3.7/site-packages/numpy/lib/function_base.py:1061: RuntimeWarning: invalid value encountered in true_divide\n",
      "  a = -(dx2)/(dx1 * (dx1 + dx2))\n",
      "/Users/peter/anaconda3/lib/python3.7/site-packages/numpy/lib/function_base.py:1062: RuntimeWarning: divide by zero encountered in true_divide\n",
      "  b = (dx2 - dx1) / (dx1 * dx2)\n",
      "/Users/peter/anaconda3/lib/python3.7/site-packages/numpy/lib/function_base.py:1062: RuntimeWarning: invalid value encountered in true_divide\n",
      "  b = (dx2 - dx1) / (dx1 * dx2)\n",
      "/Users/peter/anaconda3/lib/python3.7/site-packages/numpy/lib/function_base.py:1063: RuntimeWarning: divide by zero encountered in true_divide\n",
      "  c = dx1 / (dx2 * (dx1 + dx2))\n",
      "/Users/peter/anaconda3/lib/python3.7/site-packages/numpy/lib/function_base.py:1063: RuntimeWarning: invalid value encountered in true_divide\n",
      "  c = dx1 / (dx2 * (dx1 + dx2))\n",
      "/Users/peter/anaconda3/lib/python3.7/site-packages/numpy/lib/function_base.py:1069: RuntimeWarning: invalid value encountered in multiply\n",
      "  out[tuple(slice1)] = a * f[tuple(slice2)] + b * f[tuple(slice3)] + c * f[tuple(slice4)]\n",
      "/Users/peter/anaconda3/lib/python3.7/site-packages/ipykernel_launcher.py:189: UserWarning: This figure includes Axes that are not compatible with tight_layout, so results might be incorrect.\n"
     ]
    },
    {
     "data": {
      "image/png": "[encoded data removed]",
      "text/plain": [
       "<Figure size 468x351 with 7 Axes>"
      ]
     },
     "metadata": {
      "needs_background": "light"
     },
     "output_type": "display_data"
    }
   ],
   "source": [
    "fig, ax = plt.subplots(figsize=(fig_width*2, fig_height*2), nrows=2, ncols=2)\n",
    "ax = ax.ravel()\n",
    "\n",
    "# Set main axes labels\n",
    "for k in np.arange(len(ax)):\n",
    "    ax[k].set_title(chr(97+k), loc='left', weight='bold')\n",
    "\n",
    "# Plot settings\n",
    "ax[0].set_xlabel('Voltage (V)')\n",
    "ax[1].set_xlabel('Sweep rate$^{0.5}$ (mV$^{0.5}$ min$^{-0.5}$)')\n",
    "ax[2].set_xlabel('Capacity (mAh g$^{-1}$)')\n",
    "ax[3].set_xlabel('Voltage (V)')\n",
    "\n",
    "ax[0].set_ylabel('Current (A g$^{-1}$)')\n",
    "ax[1].set_ylabel('$-\\Delta I_{peak-baseline, lith1-lith2}$ (A g$^{-1}$)')\n",
    "ax[2].set_ylabel('Voltage (V)')\n",
    "ax[3].set_ylabel('dQ/dV (mAh g$^{-1}$ V$^{-1}$)')\n",
    "\n",
    "ax[0].xaxis.set_minor_locator(AutoMinorLocator())\n",
    "ax[0].yaxis.set_minor_locator(AutoMinorLocator())\n",
    "ax[1].xaxis.set_minor_locator(AutoMinorLocator())\n",
    "ax[1].yaxis.set_minor_locator(AutoMinorLocator())\n",
    "ax[2].xaxis.set_minor_locator(AutoMinorLocator())\n",
    "ax[2].yaxis.set_minor_locator(AutoMinorLocator())\n",
    "ax[3].xaxis.set_minor_locator(AutoMinorLocator())\n",
    "ax[3].yaxis.set_minor_locator(AutoMinorLocator())\n",
    "\n",
    "ax[0].set_xlim([0, 1.2])\n",
    "ax[2].set_xlim([0, 380])\n",
    "ax[2].set_ylim([0, 1.2])\n",
    "ax[3].set_xlim([0.01, 1.2])\n",
    "ax[3].set_ylim([-1250, 0])\n",
    "\n",
    "\n",
    "ax_inset0 = inset_axes(ax[0], width='100%', height='100%',\n",
    "                       bbox_to_anchor=(0.6, 0.6, 0.35, 0.25),\n",
    "                       bbox_transform=ax[0].transAxes,\n",
    "                       loc='upper left')\n",
    "ax_inset1 = inset_axes(ax[1], width='100%', height='100%',\n",
    "                       bbox_to_anchor=(0.1, 0.625, 0.35, 0.35),#(0.625, 0.15, 0.35, 0.35),\n",
    "                       bbox_transform=ax[1].transAxes,\n",
    "                       loc='upper left')\n",
    "ax_inset3 = inset_axes(ax[3], width='100%', height='100%',\n",
    "                       bbox_to_anchor=(0.175, 0.175, 0.35, 0.35),\n",
    "                       bbox_transform=ax[3].transAxes,\n",
    "                       loc='upper left')\n",
    "\n",
    "ax_inset0.xaxis.set_minor_locator(AutoMinorLocator())\n",
    "ax_inset1.yaxis.set_minor_locator(AutoMinorLocator())\n",
    "ax_inset3.xaxis.set_minor_locator(AutoMinorLocator())\n",
    "ax_inset3.yaxis.set_minor_locator(AutoMinorLocator())\n",
    "\n",
    "ax_inset0.set_xlim([0, 1.2])\n",
    "ax_inset0.set_ylim([1e-2, 30])\n",
    "\n",
    "ax_inset1.set_xlabel('log(sweep rate)')\n",
    "#ax_inset1.set_ylabel('$V_{peak}$ (V)', labelpad=0.8)\n",
    "ax_inset1.set_ylabel('Peak voltage', labelpad=0.8)\n",
    "ax_inset3.set_xlabel('Sweep rate$^{-0.5}$')\n",
    "ax_inset3.set_ylabel('-Peak dQ/dV')\n",
    "\n",
    "\n",
    "E_peaks = np.zeros((len(file_list), ))\n",
    "I_peaks = np.zeros((len(file_list), ))\n",
    "Delta_I_peaks = np.zeros((len(file_list), ))\n",
    "dQdV_peaks = np.zeros((len(file_list), ))\n",
    "\n",
    "\n",
    "colors_constcurr  = cm.Blues( np.linspace(0.4, 0.9, len(all_data_constcurr.items())))[:,0:3]\n",
    "\n",
    "\n",
    "Vlin = np.linspace(0, 1.2, 1000)\n",
    "\n",
    "\n",
    "for k, file in enumerate(file_list):\n",
    "    \n",
    "    print(f'Starting {file.stem}')\n",
    "    \n",
    "    speed = int(re.findall(r'\\d+', str(file).split('_')[3])[0])\n",
    "    \n",
    "    # Filter relevant data\n",
    "    data = np.genfromtxt(file, delimiter='\\t', skip_header=True)\n",
    "    \n",
    "    # Get first and second lithiation sweeps\n",
    "    idx_lith = np.where(data[:,0] == 0)[0] # first column = mode; mode = 0 or 1; 0 = lithiation\n",
    "    \n",
    "    transition_point = idx_lith[:-1][np.diff(idx_lith) != 1][0] # Get idx between 1st and 2nd lith sweep\n",
    "    idx_lith1 = idx_lith[idx_lith < transition_point] # indices of first lith sweep\n",
    "    idx_lith2 = idx_lith[idx_lith > transition_point] # indices of second lith sweep\n",
    "    data_lith1 = data[idx_lith1] # data for first lith sweep\n",
    "    data_lith2 = data[idx_lith2] # data for second lith sweep\n",
    "    \n",
    "    # Get columns\n",
    "    time_lith1 = (data_lith1[:,1] - data_lith1[0,1]) / 3600\n",
    "    time_lith2 = (data_lith2[:,1] - data_lith2[0,1]) / 3600\n",
    "    voltage_lith1 = data_lith1[:,2]\n",
    "    voltage_lith2 = data_lith2[:,2]\n",
    "    current_lith1 = data_lith1[:,3] / mass_in_mg\n",
    "    current_lith2 = data_lith2[:,3] / mass_in_mg\n",
    "    I_lith1_lin = np.interp(Vlin, np.flip(voltage_lith1), np.flip(current_lith1))\n",
    "    I_lith2_lin = np.interp(Vlin, np.flip(voltage_lith2), np.flip(current_lith2))\n",
    "    I_diff = I_lith1_lin - I_lith2_lin\n",
    "    \n",
    "    # Numerically integrate\n",
    "    Q_lith1 = 1000 * cumtrapz(y=-current_lith1, x=time_lith1) # mAh/mg -> mAh/g\n",
    "    \n",
    "    # Light smoothing\n",
    "    if speed < 31:\n",
    "        voltage_lith1 = savgol_filter(voltage_lith1, 21, 1)\n",
    "        current_lith1 = savgol_filter(current_lith1, 21, 1)\n",
    "        \n",
    "    # Get dQ/dV\n",
    "    dQdV_lith1 = current_lith1 / speed\n",
    "    dQdV_lith1_derivative = np.gradient(Q_lith1, voltage_lith1[:-1])\n",
    "    \n",
    "    # Find index of peak current > 0.2 V\n",
    "    idx_0pt2V = np.where(voltage_lith1 < 0.2)[0][0]\n",
    "    max_idx = np.where(current_lith1[:idx_0pt2V] == np.min(current_lith1[:idx_0pt2V]))[0][0]\n",
    "    E_peak_lith1 = voltage_lith1[max_idx]\n",
    "    dQdV_peak_lith1 = dQdV_lith1[max_idx]\n",
    "    print(speed, E_peak_lith1, I_peak_minus_I_baseline[k])\n",
    "    \n",
    "    # Set peaks\n",
    "    E_peaks[k] = E_peak_lith1\n",
    "    dQdV_peaks[k] = dQdV_peak_lith1\n",
    "    \n",
    "    # Plot\n",
    "    ax[0].plot(voltage_lith1, current_lith1, color=colors[k],\n",
    "            label=str(speed) + ' mV/min')\n",
    "    ax[1].plot(speed**0.5, I_peak_minus_I_baseline[k], 'o', color=colors[k],\n",
    "               label=str(speed) + ' mV/min')\n",
    "    ax[2].plot(Q_lith1, voltage_lith1[:-1], color=colors[k],\n",
    "            label=str(speed) + ' mV/min')\n",
    "    ax[3].plot(voltage_lith1, 60 / 3.6 * 1000 * current_lith1 / speed, color=colors[k],\n",
    "              label=str(speed) + ' mV/min')\n",
    "    \n",
    "    # dQ/dV is numerically equivalent to current / sweep rate.\n",
    "    # You can confirm this with below lines\n",
    "    #ax[3].plot(voltage[:-1], dQdV_derivative, ':', color=colors[k],\n",
    "    #          label=str(speed) + ' mV/min')\n",
    "    \n",
    "    ax_inset0.semilogy(voltage_lith1, -current_lith1, color=colors[k])\n",
    "    ax_inset1.semilogx(speed, E_peak_lith1, 'o', color=colors[k])\n",
    "    ax_inset3.plot(speed**-0.5, -dQdV_peak_lith1, 'o', color=colors[k],\n",
    "                   label=str(speed) + ' mV/min')\n",
    "    \n",
    "\n",
    "# Add constant current V vs Q\n",
    "for k, (key, value) in enumerate(all_data_constcurr.items()):\n",
    "    \n",
    "    # Extract values\n",
    "    first_lith_data = value['First lith data']\n",
    "    C_rate = value['C rate']\n",
    "    C_rate_string = value['C rate string']\n",
    "    \n",
    "    Q = first_lith_data[:, 2]\n",
    "    V = first_lith_data[:, 1]\n",
    "    \n",
    "    ax[2].plot(Q, V, '--', color=colors_constcurr[k], label=C_rate_string)\n",
    "    \n",
    "\n",
    "ax[0].legend(frameon=False)\n",
    "ax[1].legend(frameon=False, loc='lower right')\n",
    "ax[2].legend(frameon=False)\n",
    "ax[3].legend(frameon=False)\n",
    "\n",
    "\n",
    "ax_inset0.annotate('log(-I) vs. V', (0.95, 0.95), xycoords='axes fraction',\n",
    "                   horizontalalignment='right', verticalalignment='top')\n",
    "\n",
    "# Fits\n",
    "speeds_logspace = np.logspace(np.log10(speeds[0]), np.log10(speeds[-1]), 100)\n",
    "\n",
    "p1 = np.polyfit(speeds**0.5, I_peak_minus_I_baseline, 1)\n",
    "p2 = np.polyfit(np.log10(speeds), E_peaks, 1)\n",
    "p3 = np.polyfit(speeds**(-0.5), -dQdV_peaks, 1)\n",
    "\n",
    "ax[1].plot(speeds_logspace**0.5, p1[0]*speeds_logspace**0.5 + p1[1], 'k')\n",
    "ax_inset1.semilogx(speeds_logspace, p2[0]*np.log10(speeds_logspace) + p2[1], 'k')\n",
    "ax_inset3.plot(speeds_logspace**(-0.5), p3[0]*speeds_logspace**(-0.5) + p3[1], 'k')\n",
    "\n",
    "ax_inset0.get_yaxis().set_ticks([])\n",
    "ax_inset1.get_xaxis().set_ticks([])\n",
    "ax_inset1.minorticks_off()\n",
    "ax_inset1.get_yaxis().set_ticks([])\n",
    "ax_inset3.get_xaxis().set_ticks([])\n",
    "ax_inset3.get_yaxis().set_ticks([])\n",
    "\n",
    "plt.tight_layout()\n",
    "plt.savefig(figpath / 'LSV.eps', bbox_inches='tight', format='eps')"
   ]
  }
 ],
 "metadata": {
  "kernelspec": {
   "display_name": "Python 3",
   "language": "python",
   "name": "python3"
  },
  "language_info": {
   "codemirror_mode": {
    "name": "ipython",
    "version": 3
   },
   "file_extension": ".py",
   "mimetype": "text/x-python",
   "name": "python",
   "nbconvert_exporter": "python",
   "pygments_lexer": "ipython3",
   "version": "3.7.6"
  }
 },
 "nbformat": 4,
 "nbformat_minor": 4
}
