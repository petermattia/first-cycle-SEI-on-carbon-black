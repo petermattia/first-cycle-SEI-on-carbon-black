{
 "cells": [
  {
   "cell_type": "markdown",
   "metadata": {},
   "source": [
    "# Linear sweep voltammetry (LSV), parameter estimation\n",
    "Peter Attia\n",
    "\n",
    "This notebook plots the first lithiation of carbon black electrodes as a function of sweep rate. This notebook attempts to estimate the electrochemical parameters of the reaction, but I wasn't able to figure it out. Leaving this here for someone else to try.\n",
    "\n",
    "This notebook frequently references Bard & Faulkner, which can be found [here](https://www.asu.edu/courses/mse590/Electrochem%20summer%202015/Electrochemical_methods_2ed_2001_-_Bard_Faulkner.pdf). Page 236 has most of the needed equations. Additionally, Bio-logic's [Application Note 41.1](https://www.biologic.net/wp-content/uploads/2019/08/cv-simulation_electrochemistry-an41-1.pdf) also has similar equations."
   ]
  },
  {
   "cell_type": "code",
   "execution_count": 1,
   "metadata": {},
   "outputs": [],
   "source": [
    "import re\n",
    "import glob\n",
    "from pathlib import Path\n",
    "\n",
    "import numpy as np\n",
    "from scipy.signal import savgol_filter\n",
    "from scipy.integrate import cumtrapz\n",
    "import pandas as pd\n",
    "import pint\n",
    "\n",
    "import matplotlib.pyplot as plt\n",
    "import matplotlib.cm as cm\n",
    "from matplotlib import rcParams\n",
    "from matplotlib.ticker import AutoMinorLocator\n",
    "from mpl_toolkits.axes_grid1.inset_locator import inset_axes"
   ]
  },
  {
   "cell_type": "markdown",
   "metadata": {},
   "source": [
    "Set plotting settings:"
   ]
  },
  {
   "cell_type": "code",
   "execution_count": 2,
   "metadata": {},
   "outputs": [],
   "source": [
    "fig_width = 3.25 #ECS spec is 3.25\" width\n",
    "fig_height = (3/4)*fig_width # standard ratio\n",
    "rcParams['lines.markersize'] = 5\n",
    "rcParams['lines.linewidth'] = 1.0\n",
    "rcParams['font.size'] = 7\n",
    "rcParams['legend.fontsize'] = 7\n",
    "rcParams['legend.frameon'] = False\n",
    "rcParams['font.sans-serif'] = 'Arial'\n",
    "rcParams['mathtext.fontset'] = 'custom'\n",
    "rcParams['mathtext.rm'] = 'Arial'\n",
    "rcParams['pdf.fonttype'] = 42\n",
    "rcParams['ps.fonttype'] = 42\n",
    "\n",
    "figpath = Path.cwd().parent / 'figures'"
   ]
  },
  {
   "cell_type": "markdown",
   "metadata": {},
   "source": [
    "## Define pint unit registry and common units\n",
    "\n",
    "In this notebook, I use the `pint` package to reduce unit conversion errors in estimating the electrochemical parameters of this system."
   ]
  },
  {
   "cell_type": "code",
   "execution_count": 3,
   "metadata": {},
   "outputs": [],
   "source": [
    "ureg = pint.UnitRegistry()"
   ]
  },
  {
   "cell_type": "markdown",
   "metadata": {},
   "source": [
    "#### Physical constants\n",
    "\n",
    "Define commonly used physical constants. All data analyzed in this notebook was collected at 30°C:"
   ]
  },
  {
   "cell_type": "code",
   "execution_count": 4,
   "metadata": {},
   "outputs": [],
   "source": [
    "F = ureg.faraday_constant\n",
    "R = ureg.R\n",
    "T = (273.15 + 30) * ureg.K"
   ]
  },
  {
   "cell_type": "markdown",
   "metadata": {},
   "source": [
    "Define normalized Faraday's constant, `f`:"
   ]
  },
  {
   "cell_type": "code",
   "execution_count": 5,
   "metadata": {},
   "outputs": [
    {
     "data": {
      "text/html": [
       "\\[38.27978928434796\\ 1/volt\\]"
      ],
      "text/latex": [
       "$38.27978928434796\\ \\frac{1}{\\mathrm{volt}}$"
      ],
      "text/plain": [
       "38.27978928434796 <Unit('1 / volt')>"
      ]
     },
     "execution_count": 5,
     "metadata": {},
     "output_type": "execute_result"
    }
   ],
   "source": [
    "f = F / (R * T)\n",
    "f.ito('V**-1') # in-place conversion\n",
    "f"
   ]
  },
  {
   "cell_type": "markdown",
   "metadata": {},
   "source": [
    "Define typical electrode mass. Unfortunately, the true values were unavailable, so we use nominal masses here:"
   ]
  },
  {
   "cell_type": "code",
   "execution_count": 6,
   "metadata": {},
   "outputs": [],
   "source": [
    "electrode_mass = 0.8 * ureg.mg"
   ]
  },
  {
   "cell_type": "markdown",
   "metadata": {},
   "source": [
    "#### Electrode area\n",
    "\n",
    "Define typical electrode area in cm^2:"
   ]
  },
  {
   "cell_type": "code",
   "execution_count": 7,
   "metadata": {},
   "outputs": [
    {
     "data": {
      "text/html": [
       "\\[496.0\\ centimeter^2\\]"
      ],
      "text/latex": [
       "$496.0\\ \\mathrm{centimeter}^{2}$"
      ],
      "text/plain": [
       "496.0 <Unit('centimeter ** 2')>"
      ]
     },
     "execution_count": 7,
     "metadata": {},
     "output_type": "execute_result"
    }
   ],
   "source": [
    "SSA = 62 * ureg.m ** 2 / ureg.g # specific surface area of carbon black\n",
    "\n",
    "electrode_area = SSA * electrode_mass\n",
    "electrode_area.ito('cm**2')\n",
    "electrode_area"
   ]
  },
  {
   "cell_type": "markdown",
   "metadata": {},
   "source": [
    "#### EC concentration\n",
    "\n",
    "Define concentration of EC in electrolyte. The electrolyte used in this work is 1.0 M LiPF6 in 1:1 EC:DEC by weight."
   ]
  },
  {
   "cell_type": "code",
   "execution_count": 8,
   "metadata": {},
   "outputs": [],
   "source": [
    "molar_mass_EC = 88.06 * ureg.g / ureg.mol\n",
    "molar_mass_DEC = 118.13 * ureg.g / ureg.mol\n",
    "molar_mass_LiPF6 = 151.905 * ureg.g / ureg.mol\n",
    "\n",
    "conc_LiPF6 = 1 * ureg.M\n",
    "density_soln = 1.26 * ureg.g / ureg.mL # https://www.sigmaaldrich.com/catalog/product/aldrich/746746?lang=en&region=US\n",
    "volume_soln = 1 * ureg.L # 1 L of solution"
   ]
  },
  {
   "cell_type": "markdown",
   "metadata": {},
   "source": [
    "In 1 L of electrolyte, how much mass of salt is there?"
   ]
  },
  {
   "cell_type": "code",
   "execution_count": 9,
   "metadata": {},
   "outputs": [
    {
     "data": {
      "text/html": [
       "\\[151.90500000000003\\ gram\\]"
      ],
      "text/latex": [
       "$151.90500000000003\\ \\mathrm{gram}$"
      ],
      "text/plain": [
       "151.90500000000003 <Unit('gram')>"
      ]
     },
     "execution_count": 9,
     "metadata": {},
     "output_type": "execute_result"
    }
   ],
   "source": [
    "mass_soln = volume_soln * density_soln\n",
    "mass_salt = conc_LiPF6 * volume_soln * molar_mass_LiPF6\n",
    "mass_salt.to('g')"
   ]
  },
  {
   "cell_type": "markdown",
   "metadata": {},
   "source": [
    "Find mass of EC:"
   ]
  },
  {
   "cell_type": "code",
   "execution_count": 10,
   "metadata": {},
   "outputs": [],
   "source": [
    "mass_solvent = mass_soln - mass_salt\n",
    "mass_EC = 0.5 * mass_solvent # EC is 50% of total solvent weight"
   ]
  },
  {
   "cell_type": "markdown",
   "metadata": {},
   "source": [
    "Find concentration of EC in electrolyte:"
   ]
  },
  {
   "cell_type": "code",
   "execution_count": 11,
   "metadata": {},
   "outputs": [
    {
     "data": {
      "text/html": [
       "\\[0.006291704519645697\\ mole/centimeter^3\\]"
      ],
      "text/latex": [
       "$0.006291704519645697\\ \\frac{\\mathrm{mole}}{\\mathrm{centimeter}^{3}}$"
      ],
      "text/plain": [
       "0.006291704519645697 <Unit('mole / centimeter ** 3')>"
      ]
     },
     "execution_count": 11,
     "metadata": {},
     "output_type": "execute_result"
    }
   ],
   "source": [
    "C_EC = mass_EC / molar_mass_EC / volume_soln\n",
    "C_EC.ito('mol / cm**3')\n",
    "C_EC"
   ]
  },
  {
   "cell_type": "markdown",
   "metadata": {},
   "source": [
    "## Load data"
   ]
  },
  {
   "cell_type": "code",
   "execution_count": 12,
   "metadata": {},
   "outputs": [
    {
     "data": {
      "text/plain": [
       "[PosixPath('/Users/peter/Documents/GitHub/first-cycle-SEI-on-carbon-black/LSV/cellE_CB_LSV_3mVpermin_CB1.txt'),\n",
       " PosixPath('/Users/peter/Documents/GitHub/first-cycle-SEI-on-carbon-black/LSV/cellF_CB_LSV_10mVpermin_CB2.txt'),\n",
       " PosixPath('/Users/peter/Documents/GitHub/first-cycle-SEI-on-carbon-black/LSV/cellG_CB_LSV_30mVpermin_CB3.txt'),\n",
       " PosixPath('/Users/peter/Documents/GitHub/first-cycle-SEI-on-carbon-black/LSV/cellH_CB_LSV_100mVpermin_CB4.txt'),\n",
       " PosixPath('/Users/peter/Documents/GitHub/first-cycle-SEI-on-carbon-black/LSV/cellI_CB_LSV_300mVpermin_CB5.txt')]"
      ]
     },
     "execution_count": 12,
     "metadata": {},
     "output_type": "execute_result"
    }
   ],
   "source": [
    "file_list = sorted(list((Path.cwd()).glob('*.txt')))\n",
    "file_list"
   ]
  },
  {
   "cell_type": "markdown",
   "metadata": {},
   "source": [
    "#### Sanity check dVdt values and read in speeds"
   ]
  },
  {
   "cell_type": "code",
   "execution_count": 13,
   "metadata": {},
   "outputs": [
    {
     "name": "stdout",
     "output_type": "stream",
     "text": [
      "3 -3.000445268594945 0.6090303352423291 -0.20297998487655372\n",
      "10 -10.002255003113708 0.5378946798955853 -0.0537773411823772\n",
      "30 -29.939482586270127 1.5046745942106194 -0.05025720100121718\n",
      "100 -100.02010430021092 0.6232664014496389 -0.006231411232874754\n",
      "300 -300.05609981459264 0.7598870161055383 -0.002532483147568336\n"
     ]
    },
    {
     "data": {
      "text/plain": [
       "Text(0, 0.5, 'Voltage')"
      ]
     },
     "execution_count": 13,
     "metadata": {},
     "output_type": "execute_result"
    },
    {
     "data": {
      "image/png": "[encoded data removed]",
      "text/plain": [
       "<Figure size 432x288 with 1 Axes>"
      ]
     },
     "metadata": {
      "needs_background": "light"
     },
     "output_type": "display_data"
    }
   ],
   "source": [
    "speeds = np.zeros((len(file_list), ))\n",
    "\n",
    "for k, file in enumerate(file_list):\n",
    "    data = np.genfromtxt(file, delimiter='\\t', skip_header=True)\n",
    "    speed = int(re.findall(r'\\d+', str(file).split('_')[3])[0])\n",
    "    speeds[k] = speed\n",
    "    \n",
    "    UCV = 1.2\n",
    "    idx1 = np.where(data[:,2] < UCV)[0][0]\n",
    "    data = data[idx1:]\n",
    "    idx2 = np.where(data[:,0] == 1)[0][0]\n",
    "    data = data[:idx2]\n",
    "    \n",
    "    dVdt = np.gradient(data[:,2] * 1000) / np.gradient(data[:,1] / 60) # V/s -> mV/min\n",
    "    \n",
    "    mean = np.mean(dVdt)\n",
    "    std = np.std(dVdt)\n",
    "    print(speed , mean, std, std/mean)\n",
    "    \n",
    "    plt.plot(data[:,1] - data[0,1], data[:,2])\n",
    "    \n",
    "plt.xlabel('Time')\n",
    "plt.ylabel('Voltage')"
   ]
  },
  {
   "cell_type": "markdown",
   "metadata": {},
   "source": [
    "Add speed units from `pint`:"
   ]
  },
  {
   "cell_type": "code",
   "execution_count": 14,
   "metadata": {},
   "outputs": [
    {
     "data": {
      "text/html": [
       "\\[\\begin{pmatrix}3.0 & 10.0 & 30.0 & 100.0 & 300.0\\end{pmatrix} millivolt/minute\\]"
      ],
      "text/latex": [
       "$\\begin{pmatrix}3.0 & 10.0 & 30.0 & 100.0 & 300.0\\end{pmatrix}\\ \\frac{\\mathrm{millivolt}}{\\mathrm{minute}}$"
      ],
      "text/plain": [
       "array([  3.,  10.,  30., 100., 300.]) <Unit('millivolt / minute')>"
      ]
     },
     "execution_count": 14,
     "metadata": {},
     "output_type": "execute_result"
    }
   ],
   "source": [
    "speeds_units = np.asarray(speeds) * ureg.mV / ureg.min\n",
    "speeds_units"
   ]
  },
  {
   "cell_type": "markdown",
   "metadata": {},
   "source": [
    "Default speed units should be V/s:"
   ]
  },
  {
   "cell_type": "code",
   "execution_count": 15,
   "metadata": {},
   "outputs": [
    {
     "data": {
      "text/html": [
       "\\[\\begin{pmatrix}5×10^{-5} & 0.0001666666666666667 & 0.0005 & 0.0016666666666666668 & 0.005\\end{pmatrix} volt/second\\]"
      ],
      "text/latex": [
       "$\\begin{pmatrix}5\\times 10^{-5} & 0.0001666666666666667 & 0.0005 & 0.0016666666666666668 & 0.005\\end{pmatrix}\\ \\frac{\\mathrm{volt}}{\\mathrm{second}}$"
      ],
      "text/plain": [
       "array([5.00000000e-05, 1.66666667e-04, 5.00000000e-04, 1.66666667e-03,\n",
       "       5.00000000e-03]) <Unit('volt / second')>"
      ]
     },
     "execution_count": 15,
     "metadata": {},
     "output_type": "execute_result"
    }
   ],
   "source": [
    "speeds_units.ito('V/s')\n",
    "speeds_units"
   ]
  },
  {
   "cell_type": "markdown",
   "metadata": {},
   "source": [
    "## Create $\\Delta I$ to determine baseline currents\n",
    "\n",
    "One of the challenges with this system is deconvoluting the EC reduction reaction from the carbon black intercalation reaction. We get around this by subtracting the first lithiation from the second lithiation to bypass this. Then, to get the actual peak current values, I manually define values for the baseline by voltage:"
   ]
  },
  {
   "cell_type": "code",
   "execution_count": 16,
   "metadata": {},
   "outputs": [],
   "source": [
    "V_baselines = [0.98, 0.9, 0.8, 0.61, 0.46]"
   ]
  },
  {
   "cell_type": "markdown",
   "metadata": {},
   "source": [
    "Define a standard voltage basis vector for interpolation:"
   ]
  },
  {
   "cell_type": "code",
   "execution_count": 17,
   "metadata": {},
   "outputs": [],
   "source": [
    "Vlin = np.linspace(0, 1.2, 1000)"
   ]
  },
  {
   "cell_type": "markdown",
   "metadata": {},
   "source": [
    "Preinitialize:"
   ]
  },
  {
   "cell_type": "code",
   "execution_count": 18,
   "metadata": {},
   "outputs": [],
   "source": [
    "I_baseline = np.zeros((5,))\n",
    "I_peak = np.zeros((5,))\n",
    "V_peak = np.zeros((5,))"
   ]
  },
  {
   "cell_type": "markdown",
   "metadata": {},
   "source": [
    "Create plot:"
   ]
  },
  {
   "cell_type": "code",
   "execution_count": 19,
   "metadata": {},
   "outputs": [
    {
     "data": {
      "image/png": "[encoded data removed]",
      "text/plain": [
       "<Figure size 468x351 with 6 Axes>"
      ]
     },
     "metadata": {
      "needs_background": "light"
     },
     "output_type": "display_data"
    }
   ],
   "source": [
    "fig, ax = plt.subplots(figsize=(fig_width*2, fig_height*2), nrows=2, ncols=3)\n",
    "ax = ax.ravel()\n",
    "\n",
    "colors = cm.viridis(np.linspace(0.9, 0.3, 5))[:,0:3]\n",
    "\n",
    "for k, file in enumerate(file_list):\n",
    "    data = np.genfromtxt(file, delimiter='\\t', skip_header=True)\n",
    "    \n",
    "    # Find first and second lithiations.\n",
    "    # data[:,0] indicates the redox mode\n",
    "    idx = np.where(data[:,0] == 0)[0]\n",
    "    \n",
    "    # transition_point = index splitting first and second lithiations\n",
    "    transition_point = idx[:-1][np.diff(idx) != 1][0]\n",
    "    idx1 = idx[idx < transition_point]\n",
    "    idx2 = idx[idx > transition_point]\n",
    "    data1 = np.flip(data[idx1], axis=0)\n",
    "    data2 = np.flip(data[idx2], axis=0)\n",
    "\n",
    "    # create linearly interpolated current vectors to enable direct subtraction\n",
    "    mass_in_mg = electrode_mass.to('mg').magnitude\n",
    "    Ilin1 = np.interp(Vlin, data1[:,2], data1[:,3] / mass_in_mg)\n",
    "    Ilin2 = np.interp(Vlin, data2[:,2], data2[:,3] / mass_in_mg)\n",
    "    \n",
    "    # Create DeltaI\n",
    "    DeltaI = Ilin1 - Ilin2\n",
    "    \n",
    "    # Find peak current and voltage\n",
    "    peak_idx = np.argmin(DeltaI)\n",
    "    I_peak[k] = DeltaI[peak_idx]\n",
    "    V_peak[k] = Vlin[peak_idx]\n",
    "    \n",
    "    # Identify baseline current from manually selected baseline voltage\n",
    "    idx_baseline = np.where(Vlin > V_baselines[k])[0][0]\n",
    "    I_baseline[k] = DeltaI[idx_baseline]\n",
    "    \n",
    "    # Downsample first data series\n",
    "    if k == 0:\n",
    "        V1, I1 = data1[::5,2], data1[::5,3] / mass_in_mg\n",
    "        V2, I2 = data2[::5,2], data2[::5,3] / mass_in_mg\n",
    "    else:\n",
    "        V1, I1 = data1[:,2], data1[:,3] / mass_in_mg\n",
    "        V2, I2 = data2[:,2], data2[:,3] / mass_in_mg\n",
    "    \n",
    "    # Plot\n",
    "    ax[k].plot(V1, I1, '--', color=colors[k], label='$I_{lith1}$')\n",
    "    ax[k].plot(V2, I2, ':', color=colors[k], label='$I_{lith2}$')\n",
    "    ax[k].plot(Vlin, DeltaI, color='k', label=r'$\\Delta I_{lith1-lith2}$')\n",
    "    ax[k].plot(V_peak[k], I_peak[k], 'vk', label=r'$\\Delta I_{peak, lith1-lith2}$')\n",
    "    ax[k].plot(V_baselines[k], I_baseline[k], '*k', label=r'$\\Delta I_{baseline, lith1-lith2}$')\n",
    "    \n",
    "    # Plot settings\n",
    "    ax[k].set_xlim([0, 1.2])\n",
    "    ax[k].set_ylim(top=0)\n",
    "    ax[k].set_xlabel('Voltage (V)')\n",
    "    ax[k].set_ylabel('Current (A g$^{-1}$)')\n",
    "    ax[k].set_title(chr(97+k), loc='left', weight='bold')\n",
    "\n",
    "ax[5].axis('off')\n",
    "ax[5].plot([-2, -1], [-2, -1], '--k', label='$I_{lith1}$')\n",
    "ax[5].plot([-2, -1], [-2, -1], ':k', label='$I_{lith2}$')\n",
    "ax[5].plot([-2, -1], [-2, -1], 'k', label=r'$\\Delta I_{lith1-lith2}$')\n",
    "ax[5].plot(-1, -1, 'vk', label=r'$\\Delta I_{peak, lith1-lith2}$')\n",
    "ax[5].plot(-1, -1, '*k', label=r'$\\Delta I_{baseline, lith1-lith2}$')\n",
    "ax[5].set_xlim([0, 1])\n",
    "ax[5].set_ylim([0, 1])\n",
    "ax[5].legend(loc='center left', bbox_to_anchor=(-0.5, 0.5))\n",
    "\n",
    "plt.tight_layout()"
   ]
  },
  {
   "cell_type": "markdown",
   "metadata": {},
   "source": [
    "## Electrochemical parameter estimation\n",
    "\n",
    "From Bard and Faulkner. The strategy is:\n",
    "1. Find $\\alpha$\n",
    "2. Find $D_0$\n",
    "3. Find $k_0$ vs $E^0$. Note that these parameters can only be determined as a function of each other.\n",
    "\n",
    "### Alpha"
   ]
  },
  {
   "cell_type": "markdown",
   "metadata": {},
   "source": [
    "Get alpha from Eqn 6.3.11:\n",
    "\n",
    "![Alpha](alpha.png)"
   ]
  },
  {
   "cell_type": "markdown",
   "metadata": {},
   "source": [
    "First get half-peak potentials (baseline voltage + half the distance beteween the peak and baseline):"
   ]
  },
  {
   "cell_type": "code",
   "execution_count": 20,
   "metadata": {},
   "outputs": [
    {
     "data": {
      "text/plain": [
       "array([0.87738739, 0.79834835, 0.71291291, 0.5092042 , 0.34351351])"
      ]
     },
     "execution_count": 20,
     "metadata": {},
     "output_type": "execute_result"
    }
   ],
   "source": [
    "V_halfpeaks = V_baselines + (V_peak - V_baselines) / 2\n",
    "V_halfpeaks"
   ]
  },
  {
   "cell_type": "markdown",
   "metadata": {},
   "source": [
    "Then get $ |E_p - E_{p/2}| $:"
   ]
  },
  {
   "cell_type": "code",
   "execution_count": 21,
   "metadata": {},
   "outputs": [
    {
     "data": {
      "text/html": [
       "\\[\\begin{pmatrix}0.10261261261261267 & 0.10165165165165169 & 0.08708708708708712 & 0.10079579579579584 & 0.11648648648648649\\end{pmatrix} volt\\]"
      ],
      "text/latex": [
       "$\\begin{pmatrix}0.10261261261261267 & 0.10165165165165169 & 0.08708708708708712 & 0.10079579579579584 & 0.11648648648648649\\end{pmatrix}\\ \\mathrm{volt}$"
      ],
      "text/plain": [
       "array([0.10261261, 0.10165165, 0.08708709, 0.1007958 , 0.11648649]) <Unit('volt')>"
      ]
     },
     "execution_count": 21,
     "metadata": {},
     "output_type": "execute_result"
    }
   ],
   "source": [
    "Ep_minus_Epover2 = -(V_peak - V_halfpeaks) * ureg.V\n",
    "Ep_minus_Epover2"
   ]
  },
  {
   "cell_type": "markdown",
   "metadata": {},
   "source": [
    "Now calculate alpha for each point:"
   ]
  },
  {
   "cell_type": "code",
   "execution_count": 22,
   "metadata": {},
   "outputs": [
    {
     "data": {
      "text/html": [
       "\\[\\begin{pmatrix}0.4727609753431403 & 0.47723020760635476 & 0.5570428457750037 & 0.48128236339863273 & 0.4164537903448083\\end{pmatrix} dimensionless\\]"
      ],
      "text/latex": [
       "$\\begin{pmatrix}0.4727609753431403 & 0.47723020760635476 & 0.5570428457750037 & 0.48128236339863273 & 0.4164537903448083\\end{pmatrix}\\ dimensionless$"
      ],
      "text/plain": [
       "array([0.47276098, 0.47723021, 0.55704285, 0.48128236, 0.41645379]) <Unit('dimensionless')>"
      ]
     },
     "execution_count": 22,
     "metadata": {},
     "output_type": "execute_result"
    }
   ],
   "source": [
    "alpha = 1.857 / f / Ep_minus_Epover2\n",
    "alpha"
   ]
  },
  {
   "cell_type": "markdown",
   "metadata": {},
   "source": [
    "Pretty consistent overall! Check mean alpha:"
   ]
  },
  {
   "cell_type": "code",
   "execution_count": 23,
   "metadata": {},
   "outputs": [
    {
     "data": {
      "text/plain": [
       "0.480954036493588"
      ]
     },
     "execution_count": 23,
     "metadata": {},
     "output_type": "execute_result"
    }
   ],
   "source": [
    "alpha_mean = np.mean(alpha.magnitude)\n",
    "alpha_mean"
   ]
  },
  {
   "cell_type": "markdown",
   "metadata": {},
   "source": [
    "Seems reasonable."
   ]
  },
  {
   "cell_type": "markdown",
   "metadata": {},
   "source": [
    "### Find $ D_O $\n",
    "\n",
    "From Eqn 6.3.6/6.3.8 ($\\pi^{1/2}\\chi(bt)=0.4958$):\n",
    "\n",
    "![Ipeaks](Ipeaks.png)\n",
    "\n",
    "We can regress $ I_{peak} $ vs $ \\nu^{0.5} $ to obtain:\n",
    "- slope = $ 0.4958 F A C_O^{*} D_O^{1/2} (\\alpha f)^{1/2} $ \n",
    "- intercept = 0\n",
    "\n",
    "Define `Ipeak_minus_Ibaseline`, which is `I_peak` relative to `I_baseline`:"
   ]
  },
  {
   "cell_type": "code",
   "execution_count": 24,
   "metadata": {},
   "outputs": [
    {
     "data": {
      "text/html": [
       "\\[\\begin{pmatrix}0.08909758142340239 & 0.21644145005892365 & 0.5519180860311999 & 0.892285313297938 & 2.14896928123254\\end{pmatrix} ampere/gram\\]"
      ],
      "text/latex": [
       "$\\begin{pmatrix}0.08909758142340239 & 0.21644145005892365 & 0.5519180860311999 & 0.892285313297938 & 2.14896928123254\\end{pmatrix}\\ \\frac{\\mathrm{ampere}}{\\mathrm{gram}}$"
      ],
      "text/plain": [
       "array([0.08909758, 0.21644145, 0.55191809, 0.89228531, 2.14896928]) <Unit('ampere / gram')>"
      ]
     },
     "execution_count": 24,
     "metadata": {},
     "output_type": "execute_result"
    }
   ],
   "source": [
    "Ipeak_minus_Ibaseline = -(I_peak - I_baseline) * ureg.A / ureg.g\n",
    "Ipeak_minus_Ibaseline"
   ]
  },
  {
   "cell_type": "markdown",
   "metadata": {},
   "source": [
    "Convert from A / g to A:"
   ]
  },
  {
   "cell_type": "code",
   "execution_count": 25,
   "metadata": {},
   "outputs": [
    {
     "data": {
      "text/html": [
       "\\[\\begin{pmatrix}7.127806513872191×10^{-5} & 0.00017315316004713893 & 0.0004415344688249599 & 0.0007138282506383505 & 0.0017191754249860321\\end{pmatrix} ampere\\]"
      ],
      "text/latex": [
       "$\\begin{pmatrix}7.127806513872191\\times 10^{-5} & 0.00017315316004713893 & 0.0004415344688249599 & 0.0007138282506383505 & 0.0017191754249860321\\end{pmatrix}\\ \\mathrm{ampere}$"
      ],
      "text/plain": [
       "array([7.12780651e-05, 1.73153160e-04, 4.41534469e-04, 7.13828251e-04,\n",
       "       1.71917542e-03]) <Unit('ampere')>"
      ]
     },
     "execution_count": 25,
     "metadata": {},
     "output_type": "execute_result"
    }
   ],
   "source": [
    "Ipeak_minus_Ibaseline_current = Ipeak_minus_Ibaseline * electrode_mass\n",
    "Ipeak_minus_Ibaseline_current.ito('A')\n",
    "Ipeak_minus_Ibaseline_current"
   ]
  },
  {
   "cell_type": "markdown",
   "metadata": {},
   "source": [
    "Plot sqrt(sweep rate) vs `Ipeak_minus_Ibaseline_current`:"
   ]
  },
  {
   "cell_type": "code",
   "execution_count": 26,
   "metadata": {},
   "outputs": [
    {
     "data": {
      "image/png": "[encoded data removed]",
      "text/plain": [
       "<Figure size 234x175.5 with 1 Axes>"
      ]
     },
     "metadata": {
      "needs_background": "light"
     },
     "output_type": "display_data"
    }
   ],
   "source": [
    "speeds_V_per_s = speeds_units.to('V/s').magnitude\n",
    "Ipeak_minus_Ibaseline_A = Ipeak_minus_Ibaseline_current.to('A').magnitude\n",
    "fit_Ipeak_vs_sqrt_sweep_rate = np.polyfit(speeds_V_per_s**0.5, Ipeak_minus_Ibaseline_A, 1)\n",
    "\n",
    "sweep_rates_sqrt = np.linspace(speeds_V_per_s.min()**0.5, speeds_V_per_s.max()**0.5, 100)\n",
    "fit_line = fit_Ipeak_vs_sqrt_sweep_rate[0] * sweep_rates_sqrt + fit_Ipeak_vs_sqrt_sweep_rate[1]\n",
    "\n",
    "label = 'Fit: $y=$' + f'{fit_Ipeak_vs_sqrt_sweep_rate[0]:.3g}' + '$x + $' + f'{fit_Ipeak_vs_sqrt_sweep_rate[1]:.3g}'\n",
    "\n",
    "fig, ax = plt.subplots(figsize=(fig_width, fig_height))\n",
    "\n",
    "ax.plot(speeds_V_per_s**(0.5), Ipeak_minus_Ibaseline_A, 'o', label='Data')\n",
    "ax.plot(sweep_rates_sqrt, fit_line, '-k', label=label)\n",
    "\n",
    "ax.set_xlabel('Sweep rate$^{0.5}$ (V$^{0.5}$ s$^{-0.5}$)')\n",
    "ax.set_ylabel('$-\\Delta I_{peak-baseline, lith1-lith2}$ (A)')\n",
    "ax.set_xlim(left=0)\n",
    "ax.legend()\n",
    "\n",
    "fig.tight_layout()\n",
    "fig.savefig(figpath / 'EC_diffusivity_estimate.eps', bbox_inches='tight', format='eps')"
   ]
  },
  {
   "cell_type": "markdown",
   "metadata": {},
   "source": [
    "The intercept is not zero, but this should give us an order of magnitude estimate. Fairly linear overall."
   ]
  },
  {
   "cell_type": "markdown",
   "metadata": {},
   "source": [
    "View fit:"
   ]
  },
  {
   "cell_type": "code",
   "execution_count": 27,
   "metadata": {},
   "outputs": [
    {
     "data": {
      "text/plain": [
       "array([ 0.02542995, -0.00015882])"
      ]
     },
     "execution_count": 27,
     "metadata": {},
     "output_type": "execute_result"
    }
   ],
   "source": [
    "fit_Ipeak_vs_sqrt_sweep_rate"
   ]
  },
  {
   "cell_type": "markdown",
   "metadata": {},
   "source": [
    "Add slope units:"
   ]
  },
  {
   "cell_type": "code",
   "execution_count": 28,
   "metadata": {},
   "outputs": [
    {
     "data": {
      "text/html": [
       "\\[0.025429948211318068\\ ampere\\ second^0.5/volt^0.5\\]"
      ],
      "text/latex": [
       "$0.025429948211318068\\ \\frac{\\mathrm{ampere} \\cdot \\mathrm{second}^{0.5}}{\\mathrm{volt}^{0.5}}$"
      ],
      "text/plain": [
       "0.025429948211318068 <Unit('ampere * second ** 0.5 / volt ** 0.5')>"
      ]
     },
     "execution_count": 28,
     "metadata": {},
     "output_type": "execute_result"
    }
   ],
   "source": [
    "slope_Ipeak_vs_sqrt_sweep_rate = fit_Ipeak_vs_sqrt_sweep_rate[0] * ureg.A / (ureg.V / ureg.s) ** 0.5\n",
    "slope_Ipeak_vs_sqrt_sweep_rate"
   ]
  },
  {
   "cell_type": "markdown",
   "metadata": {},
   "source": [
    "Estimate $D_O$ from equation 6.3.6:"
   ]
  },
  {
   "cell_type": "markdown",
   "metadata": {},
   "source": [
    "$ D_O^{1/2} = \\frac{slope}{0.4958 F A C_O^{*} (\\alpha f)^{1/2}} $ "
   ]
  },
  {
   "cell_type": "code",
   "execution_count": 29,
   "metadata": {},
   "outputs": [
    {
     "data": {
      "text/html": [
       "\\[64055196.78380366\\ coulomb/(meter\\ volt^0.5)\\]"
      ],
      "text/latex": [
       "$64055196.78380366\\ \\frac{\\mathrm{coulomb}}{\\left(\\mathrm{meter} \\cdot \\mathrm{volt}^{0.5}\\right)}$"
      ],
      "text/plain": [
       "64055196.78380366 <Unit('coulomb / meter / volt ** 0.5')>"
      ]
     },
     "execution_count": 29,
     "metadata": {},
     "output_type": "execute_result"
    }
   ],
   "source": [
    "denominator = 0.4958 * F * electrode_area * C_EC * ((alpha_mean * f) ** 0.5)\n",
    "denominator.to('C / m / V**0.5')"
   ]
  },
  {
   "cell_type": "code",
   "execution_count": 30,
   "metadata": {},
   "outputs": [
    {
     "data": {
      "text/html": [
       "\\[1.5760943493752488×10^{-19}\\ meter^2/second\\]"
      ],
      "text/latex": [
       "$1.5760943493752488\\times 10^{-19}\\ \\frac{\\mathrm{meter}^{2}}{\\mathrm{second}}$"
      ],
      "text/plain": [
       "1.5760943493752488e-19 <Unit('meter ** 2 / second')>"
      ]
     },
     "execution_count": 30,
     "metadata": {},
     "output_type": "execute_result"
    }
   ],
   "source": [
    "D_O_sqrt = slope_Ipeak_vs_sqrt_sweep_rate / denominator\n",
    "D_O = (D_O_sqrt ** 2).to('m**2 / s')\n",
    "D_O"
   ]
  },
  {
   "cell_type": "markdown",
   "metadata": {},
   "source": [
    "This is unreasonable, as this is rounghly 10 orders of magnitude higher than literature values of $10^{-10} - 10^{-9} m^2/s$:\n",
    "- [doi.org/10.1021/je3003089](doi.org/10.1021/je3003089)\n",
    "- [doi.org/10.1149/2.0941712jes](doi.org/10.1149/2.0941712jes)\n",
    "\n",
    "I'm not sure how to resolve this."
   ]
  },
  {
   "cell_type": "markdown",
   "metadata": {},
   "source": [
    "### Estimate $ k^0 $ & $ E^0 $\n",
    "\n",
    "Eqn 6.3.12 shows the relationship between $ k^0 $ & $ E^0 $:\n",
    "\n",
    "![E0 and k0](E0_and_k0.png)"
   ]
  },
  {
   "cell_type": "markdown",
   "metadata": {},
   "source": [
    "If we do a bit of algebra, we can arrive at the relationship between $ k^0 $ and $ E^0 $:\n",
    "\n",
    "$$i_p = 0.227 F A C_O k^0 \\exp(-\\alpha f (E_{peak} - E^0)) $$\n",
    "\n",
    "$$\\log(i_p) = \\log(0.227 F A C_O k^0 ) -\\alpha f (E_{peak} - E^0) $$\n",
    "\n",
    "$$\\log(i_p) = \\log(0.227 F A C_O k^0 ) -\\alpha f E_{peak} + \\alpha f E^0 $$\n",
    "\n",
    "If we define $y = \\log(i_p)$ and $x = E_{peak} $ and fit to a line, then:\n",
    "\n",
    "$$ slope = -\\alpha f $$\n",
    "\n",
    "$$ intercept = \\log(0.227 F A C_O k^0 ) + \\alpha f E^0 $$\n",
    "\n",
    "Then:\n",
    "\n",
    "$$ \\alpha = -\\frac{slope}{f} $$\n",
    "\n",
    "$$ \\exp(intercept - \\alpha f E^0) = 0.227 F A C_O k^0 $$\n",
    "\n",
    "$$ k^0 = \\frac{\\exp(intercept - \\alpha f E^0)}{0.227 F A C_O} $$\n",
    "\n",
    "$$ \\boxed{ k^0 = \\frac{\\exp(intercept + slope E^0)}{0.227 F A C_O}} $$\n",
    "\n",
    "This gives us the relationship between $ k^0 $ and $ E^0 $ with minimal assumptions (just $ A $ and $ C_O $)."
   ]
  },
  {
   "cell_type": "markdown",
   "metadata": {},
   "source": [
    "For a quick test, assume $ E^0 = 1.5 V$ and plot $\\log(I)$ vs $ E_{peak} - E^0 $:"
   ]
  },
  {
   "cell_type": "code",
   "execution_count": 31,
   "metadata": {},
   "outputs": [
    {
     "data": {
      "text/plain": [
       "[<matplotlib.lines.Line2D at 0x1a1e5ade10>]"
      ]
     },
     "execution_count": 31,
     "metadata": {},
     "output_type": "execute_result"
    },
    {
     "data": {
      "image/png": "[encoded data removed]",
      "text/plain": [
       "<Figure size 432x288 with 1 Axes>"
      ]
     },
     "metadata": {
      "needs_background": "light"
     },
     "output_type": "display_data"
    }
   ],
   "source": [
    "plt.plot(V_peak - 1.5, np.log(Ipeak_minus_Ibaseline_current.to('A').magnitude), 'o')"
   ]
  },
  {
   "cell_type": "markdown",
   "metadata": {},
   "source": [
    "This looks reasonable. Now, we can sweep through $ E^0 $ to see the resultant value of $k_0$:"
   ]
  },
  {
   "cell_type": "code",
   "execution_count": 32,
   "metadata": {},
   "outputs": [],
   "source": [
    "n_points = 100\n",
    "\n",
    "E0_vals = np.linspace(1.0, 2.0, n_points)\n",
    "k0 = np.zeros((n_points,))"
   ]
  },
  {
   "cell_type": "markdown",
   "metadata": {},
   "source": [
    "Calculate the prefactor:"
   ]
  },
  {
   "cell_type": "code",
   "execution_count": 33,
   "metadata": {},
   "outputs": [
    {
     "data": {
      "text/html": [
       "\\[6834978.428488977\\ second/meter\\]"
      ],
      "text/latex": [
       "$6834978.428488977\\ \\frac{\\mathrm{second}}{\\mathrm{meter}}$"
      ],
      "text/plain": [
       "6834978.428488977 <Unit('second / meter')>"
      ]
     },
     "execution_count": 33,
     "metadata": {},
     "output_type": "execute_result"
    }
   ],
   "source": [
    "prefactor = (0.227 * F * electrode_area * C_EC / ureg.A).to_base_units()\n",
    "prefactor"
   ]
  },
  {
   "cell_type": "markdown",
   "metadata": {},
   "source": [
    "We now need $k_0$ as a function of $ E_{peak} - E^0 $ and the linear fit parameters:"
   ]
  },
  {
   "cell_type": "code",
   "execution_count": 34,
   "metadata": {},
   "outputs": [
    {
     "data": {
      "image/png": "[encoded data removed]",
      "text/plain": [
       "<Figure size 234x175.5 with 1 Axes>"
      ]
     },
     "metadata": {
      "needs_background": "light"
     },
     "output_type": "display_data"
    }
   ],
   "source": [
    "for k, E0 in enumerate(E0_vals):\n",
    "    \n",
    "    # Fit\n",
    "    log_I = np.log(Ipeak_minus_Ibaseline_current.to('A').magnitude)\n",
    "    fit_for_k0 = np.polyfit(V_peak - E0, log_I, 1)\n",
    "    \n",
    "    # Determine slope and intercept of fit\n",
    "    E0 = E0 * ureg.V\n",
    "    slope = fit_for_k0[0] / ureg.V\n",
    "    intercept = fit_for_k0[1]\n",
    "    \n",
    "    # Find k0\n",
    "    k0[k] = ( np.exp(intercept + slope*E0) / prefactor).to('cm/s').magnitude\n",
    "\n",
    "fig = plt.figure(figsize=(fig_width, fig_height))\n",
    "plt.semilogy(E0_vals, k0, 'o')\n",
    "plt.xlabel('$ k_0 $')\n",
    "plt.ylabel('$ E^0 $')\n",
    "plt.savefig('E_vs_k.png', dpi=300, bbox_inches='tight')"
   ]
  },
  {
   "cell_type": "markdown",
   "metadata": {},
   "source": [
    "This is pretty extreme -- Bard and Faulkner state that the lower limit of $ k_0 $ is $ 10^{-10} $. While I expect $ k_0 $  to be low, this is a bit lower than expected."
   ]
  },
  {
   "cell_type": "markdown",
   "metadata": {},
   "source": [
    "Calculate alpha from this relationship as well:"
   ]
  },
  {
   "cell_type": "code",
   "execution_count": 35,
   "metadata": {},
   "outputs": [
    {
     "data": {
      "text/html": [
       "\\[0.13669202508255335\\ dimensionless\\]"
      ],
      "text/latex": [
       "$0.13669202508255335\\ dimensionless$"
      ],
      "text/plain": [
       "0.13669202508255335 <Unit('dimensionless')>"
      ]
     },
     "execution_count": 35,
     "metadata": {},
     "output_type": "execute_result"
    }
   ],
   "source": [
    "alpha = -slope / f\n",
    "alpha"
   ]
  },
  {
   "cell_type": "markdown",
   "metadata": {},
   "source": [
    "This alpha is much smaller than the alpha obtained previously."
   ]
  },
  {
   "cell_type": "markdown",
   "metadata": {},
   "source": [
    "## Summary\n",
    "\n",
    "I'm not very confident in this analysis.\n",
    "- For $ \\alpha $, we get values of both 0.48 and 0.14 via two different methods. These values are very far apart.\n",
    "- For $ D_0 $, we get a value that is 10 orders of magnitude lower than literature values.\n",
    "- The relationship between $ k_0 $ and $ E^0 $ is possibly correct, but suspicious enough that, given the results of the other values, I don't quite trust it.\n",
    "\n",
    "I'm not sure what is causing these discrepancies, but I'll leave this here for someone else to crack."
   ]
  }
 ],
 "metadata": {
  "kernelspec": {
   "display_name": "Python 3",
   "language": "python",
   "name": "python3"
  },
  "language_info": {
   "codemirror_mode": {
    "name": "ipython",
    "version": 3
   },
   "file_extension": ".py",
   "mimetype": "text/x-python",
   "name": "python",
   "nbconvert_exporter": "python",
   "pygments_lexer": "ipython3",
   "version": "3.7.10"
  }
 },
 "nbformat": 4,
 "nbformat_minor": 4
}
