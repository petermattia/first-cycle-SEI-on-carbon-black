{
 "cells": [
  {
   "cell_type": "markdown",
   "metadata": {},
   "source": [
    "# Temperature and salt concentration\n",
    "Peter Attia, April 18 2020\n",
    "\n",
    "This notebook plots the first cycle of carbon black electrodes under different temperatures and times. \n",
    "\n",
    "Note that I recollected the data for 30 deg C, 1.0m separately for each series of experiments, so that result doesn't match up perfectly."
   ]
  },
  {
   "cell_type": "code",
   "execution_count": 1,
   "metadata": {},
   "outputs": [],
   "source": [
    "from pathlib import Path\n",
    "\n",
    "import numpy as np\n",
    "import pandas as pd\n",
    "from scipy.signal import savgol_filter\n",
    "from scipy.signal import find_peaks\n",
    "\n",
    "import matplotlib.pyplot as plt\n",
    "import matplotlib.cm as cm\n",
    "from matplotlib import rcParams\n",
    "from matplotlib.ticker import AutoMinorLocator\n",
    "from mpl_toolkits.axes_grid1.inset_locator import inset_axes"
   ]
  },
  {
   "cell_type": "markdown",
   "metadata": {},
   "source": [
    "Set plotting settings:"
   ]
  },
  {
   "cell_type": "code",
   "execution_count": 2,
   "metadata": {},
   "outputs": [],
   "source": [
    "fig_width = 3.25 #ECS spec is 3.25\" width\n",
    "fig_height = (3/4)*fig_width # standard ratio\n",
    "rcParams['lines.markersize'] = 5\n",
    "rcParams['lines.linewidth'] = 1.0\n",
    "rcParams['font.size'] = 7\n",
    "rcParams['legend.fontsize'] = 7\n",
    "rcParams['legend.frameon'] = False\n",
    "rcParams['font.sans-serif'] = 'Arial'\n",
    "rcParams['mathtext.fontset'] = 'custom'\n",
    "rcParams['mathtext.rm'] = 'Arial'\n",
    "rcParams['pdf.fonttype'] = 42\n",
    "rcParams['ps.fonttype'] = 42\n",
    "\n",
    "figpath = Path.cwd().parent / 'figures'"
   ]
  },
  {
   "cell_type": "markdown",
   "metadata": {},
   "source": [
    "## Load temperature data"
   ]
  },
  {
   "cell_type": "code",
   "execution_count": 3,
   "metadata": {},
   "outputs": [],
   "source": [
    "df_temp = pd.read_excel('2017-11-02 first-cycle temperature.xlsx', header=1, sheet_name=None)\n",
    "keys_temp = list(df_temp.keys())"
   ]
  },
  {
   "cell_type": "code",
   "execution_count": 4,
   "metadata": {},
   "outputs": [
    {
     "data": {
      "text/html": [
       "<div>\n",
       "<style scoped>\n",
       "    .dataframe tbody tr th:only-of-type {\n",
       "        vertical-align: middle;\n",
       "    }\n",
       "\n",
       "    .dataframe tbody tr th {\n",
       "        vertical-align: top;\n",
       "    }\n",
       "\n",
       "    .dataframe thead th {\n",
       "        text-align: right;\n",
       "    }\n",
       "</style>\n",
       "<table border=\"1\" class=\"dataframe\">\n",
       "  <thead>\n",
       "    <tr style=\"text-align: right;\">\n",
       "      <th></th>\n",
       "      <th>Capacity/mA.h/g</th>\n",
       "      <th>Ewe/V</th>\n",
       "    </tr>\n",
       "  </thead>\n",
       "  <tbody>\n",
       "    <tr>\n",
       "      <th>0</th>\n",
       "      <td>0.000001</td>\n",
       "      <td>2.53120</td>\n",
       "    </tr>\n",
       "    <tr>\n",
       "      <th>1</th>\n",
       "      <td>0.000054</td>\n",
       "      <td>2.53018</td>\n",
       "    </tr>\n",
       "    <tr>\n",
       "      <th>2</th>\n",
       "      <td>0.000701</td>\n",
       "      <td>2.52915</td>\n",
       "    </tr>\n",
       "    <tr>\n",
       "      <th>3</th>\n",
       "      <td>0.001503</td>\n",
       "      <td>2.52812</td>\n",
       "    </tr>\n",
       "    <tr>\n",
       "      <th>4</th>\n",
       "      <td>0.002255</td>\n",
       "      <td>2.52709</td>\n",
       "    </tr>\n",
       "  </tbody>\n",
       "</table>\n",
       "</div>"
      ],
      "text/plain": [
       "   Capacity/mA.h/g    Ewe/V\n",
       "0         0.000001  2.53120\n",
       "1         0.000054  2.53018\n",
       "2         0.000701  2.52915\n",
       "3         0.001503  2.52812\n",
       "4         0.002255  2.52709"
      ]
     },
     "execution_count": 4,
     "metadata": {},
     "output_type": "execute_result"
    }
   ],
   "source": [
    "df_temp[keys_temp[0]].head()"
   ]
  },
  {
   "cell_type": "markdown",
   "metadata": {},
   "source": [
    "## Load salt data"
   ]
  },
  {
   "cell_type": "code",
   "execution_count": 5,
   "metadata": {},
   "outputs": [
    {
     "data": {
      "text/plain": [
       "['0.5m', '0.5m 2', '1m', '1m 2', '2m', '2m 2', '3m', '3m 2', '4m', '4m 2']"
      ]
     },
     "execution_count": 5,
     "metadata": {},
     "output_type": "execute_result"
    }
   ],
   "source": [
    "df_salt = pd.read_excel('2017-05-24 salt concentration data.xlsx', header=1, sheet_name=None)\n",
    "keys_salt = list(df_salt.keys())\n",
    "keys_salt"
   ]
  },
  {
   "cell_type": "code",
   "execution_count": 6,
   "metadata": {},
   "outputs": [
    {
     "data": {
      "text/html": [
       "<div>\n",
       "<style scoped>\n",
       "    .dataframe tbody tr th:only-of-type {\n",
       "        vertical-align: middle;\n",
       "    }\n",
       "\n",
       "    .dataframe tbody tr th {\n",
       "        vertical-align: top;\n",
       "    }\n",
       "\n",
       "    .dataframe thead th {\n",
       "        text-align: right;\n",
       "    }\n",
       "</style>\n",
       "<table border=\"1\" class=\"dataframe\">\n",
       "  <thead>\n",
       "    <tr style=\"text-align: right;\">\n",
       "      <th></th>\n",
       "      <th>Capacity/mA.h/g</th>\n",
       "      <th>Ecell/V</th>\n",
       "    </tr>\n",
       "  </thead>\n",
       "  <tbody>\n",
       "    <tr>\n",
       "      <th>0</th>\n",
       "      <td>0.0</td>\n",
       "      <td>0.881536</td>\n",
       "    </tr>\n",
       "    <tr>\n",
       "      <th>1</th>\n",
       "      <td>0.0</td>\n",
       "      <td>0.963799</td>\n",
       "    </tr>\n",
       "    <tr>\n",
       "      <th>2</th>\n",
       "      <td>0.0</td>\n",
       "      <td>0.998374</td>\n",
       "    </tr>\n",
       "    <tr>\n",
       "      <th>3</th>\n",
       "      <td>0.0</td>\n",
       "      <td>1.021020</td>\n",
       "    </tr>\n",
       "    <tr>\n",
       "      <th>4</th>\n",
       "      <td>0.0</td>\n",
       "      <td>1.038150</td>\n",
       "    </tr>\n",
       "  </tbody>\n",
       "</table>\n",
       "</div>"
      ],
      "text/plain": [
       "   Capacity/mA.h/g   Ecell/V\n",
       "0              0.0  0.881536\n",
       "1              0.0  0.963799\n",
       "2              0.0  0.998374\n",
       "3              0.0  1.021020\n",
       "4              0.0  1.038150"
      ]
     },
     "execution_count": 6,
     "metadata": {},
     "output_type": "execute_result"
    }
   ],
   "source": [
    "df_salt[keys_salt[0]].head()"
   ]
  },
  {
   "cell_type": "markdown",
   "metadata": {},
   "source": [
    "## Create plot"
   ]
  },
  {
   "cell_type": "code",
   "execution_count": 12,
   "metadata": {},
   "outputs": [
    {
     "name": "stdout",
     "output_type": "stream",
     "text": [
      "30°C 0.9039876383616381\n",
      "40°C 0.9711736153846146\n",
      "50°C 1.033491728271729\n",
      "60°C 1.0991028471528483\n",
      "80°C 1.1982168331668346\n",
      "0.5m 0.9583258492950391\n",
      "1.0m 0.9515784781514255\n",
      "2.0m 0.9192742102788086\n",
      "3.0m 0.8916870420824435\n",
      "4.0m 0.8534569001571076\n"
     ]
    },
    {
     "name": "stderr",
     "output_type": "stream",
     "text": [
      "/Users/peter/anaconda3/lib/python3.7/site-packages/ipykernel_launcher.py:133: UserWarning: This figure includes Axes that are not compatible with tight_layout, so results might be incorrect.\n"
     ]
    },
    {
     "data": {
      "image/png": "[encoded data removed]",
      "text/plain": [
       "<Figure size 468x351 with 6 Axes>"
      ]
     },
     "metadata": {
      "needs_background": "light"
     },
     "output_type": "display_data"
    }
   ],
   "source": [
    "fig, ax = plt.subplots(figsize=(fig_width*2, fig_height*2), nrows=2, ncols=2)\n",
    "ax = ax.ravel()\n",
    "\n",
    "# Set main axes labels\n",
    "ax[0].set_title('a', loc='left', weight='bold')\n",
    "ax[1].set_title('b', loc='left', weight='bold')\n",
    "ax[2].set_title('c', loc='left', weight='bold')\n",
    "ax[3].set_title('d', loc='left', weight='bold')\n",
    "\n",
    "ax[0].set_xlabel('Capacity (mAh g$^{-1}$)')\n",
    "ax[1].set_xlabel('Temperature (°C)')\n",
    "ax[2].set_xlabel('Capacity (mAh g$^{-1}$)')\n",
    "ax[3].set_xlabel('Salt concentration (m)')\n",
    "ax[0].set_ylabel('Voltage (V)')\n",
    "ax[1].set_ylabel('Peak voltage from dQ/dV (V)')\n",
    "ax[2].set_ylabel('Voltage (V)')\n",
    "ax[3].set_ylabel('Peak voltage from dQ/dV (V)')\n",
    "\n",
    "ax[0].set_xlim([0, 1455])\n",
    "ax[2].set_xlim([0, 1455])\n",
    "ax[0].set_ylim([0, 2.0])\n",
    "ax[2].set_ylim([0, 2.0])\n",
    "ax[0].xaxis.set_minor_locator(AutoMinorLocator())\n",
    "ax[1].xaxis.set_minor_locator(AutoMinorLocator())\n",
    "ax[2].xaxis.set_minor_locator(AutoMinorLocator())\n",
    "ax[3].xaxis.set_minor_locator(AutoMinorLocator())\n",
    "ax[0].yaxis.set_minor_locator(AutoMinorLocator())\n",
    "ax[1].yaxis.set_minor_locator(AutoMinorLocator())\n",
    "ax[2].yaxis.set_minor_locator(AutoMinorLocator())\n",
    "ax[3].yaxis.set_minor_locator(AutoMinorLocator())\n",
    "\n",
    "# Create and set inset properties\n",
    "ax_inset0 = inset_axes(ax[0], width='100%', height='100%',\n",
    "                       bbox_to_anchor=(0.36, 0.63, 0.35, 0.35),\n",
    "                       bbox_transform=ax[0].transAxes,\n",
    "                       loc='upper left')\n",
    "ax_inset1 = inset_axes(ax[2], width='100%', height='100%',\n",
    "                       bbox_to_anchor=(0.36, 0.63, 0.35, 0.35),\n",
    "                       bbox_transform=ax[2].transAxes,\n",
    "                       loc='upper left')\n",
    "ax_inset0.set_xlabel('Voltage (V)')\n",
    "ax_inset1.set_xlabel('Voltage (V)')\n",
    "ax_inset0.set_ylabel('dQ/dV')\n",
    "ax_inset1.set_ylabel('dQ/dV')\n",
    "ax_inset0.set_xlim([0.7, 1.35])\n",
    "ax_inset1.set_xlim([0.7, 1.05])\n",
    "ax_inset0.xaxis.set_minor_locator(AutoMinorLocator())\n",
    "ax_inset1.xaxis.set_minor_locator(AutoMinorLocator())\n",
    "ax_inset0.set_ylim([-4500, 0])\n",
    "ax_inset1.set_ylim([-3000, 0])\n",
    "ax_inset0.get_yaxis().set_ticks([])\n",
    "ax_inset1.get_yaxis().set_ticks([])\n",
    "\n",
    "## TEMPERATURE\n",
    "\n",
    "colors = cm.Oranges(np.linspace(0.3, 0.9, 5))[:,0:3]\n",
    "\n",
    "for k, key in enumerate(keys_temp):\n",
    "    group = df_temp[key]\n",
    "    label = key[1:] + '°C'\n",
    "    \n",
    "    # Get Q and V\n",
    "    Q = group['Capacity/mA.h/g']\n",
    "    V = group['Ewe/V']\n",
    "    \n",
    "    # Filter\n",
    "    Q_filt = savgol_filter(Q, 1001, 1)\n",
    "    V_filt = savgol_filter(V, 1001, 1)\n",
    "    \n",
    "    dQdV = np.gradient(Q_filt, V_filt)\n",
    "    \n",
    "    # Get V_peak\n",
    "    idx1pt2 = np.where(V_filt < 1.2)[0][0]\n",
    "    idx0pt5 = np.where(V_filt < 0.5)[0][0]\n",
    "    peak_idx, _ = find_peaks(-dQdV[idx1pt2:idx0pt5], distance=1e7)\n",
    "    peak_idx = idx1pt2 + peak_idx[0]\n",
    "        \n",
    "    V_peak = V_filt[peak_idx]\n",
    "    dQdV_peak = dQdV[peak_idx]\n",
    "    \n",
    "    print(label, V_peak)\n",
    "    \n",
    "    ax[0].plot(Q, V, color=colors[k], label=label)\n",
    "    ax_inset0.plot(V_filt, dQdV, color=colors[k])\n",
    "    ax[1].plot(int(key[1:]), V_peak, 'o', color=colors[k])\n",
    "    \n",
    "ax[0].legend()\n",
    "\n",
    "## SALT\n",
    "\n",
    "colors = cm.Greens(np.linspace(0.3, 0.9, 5))[:,0:3]\n",
    "\n",
    "cell_indices_to_keep = [1, 2, 4, 7, 8] # Arbitrarily chosen\n",
    "labels = ['0.5m', '1.0m', '2.0m', '3.0m', '4.0m']\n",
    "\n",
    "for k, index in enumerate(cell_indices_to_keep):\n",
    "    key = keys_salt[index]\n",
    "    group = df_salt[key]\n",
    "    \n",
    "    # First cycle index\n",
    "    idx = group[(group['Capacity/mA.h/g'].diff() < -1)].iloc[0].name\n",
    "    \n",
    "    concentration = float(key[:key.find('m')])\n",
    "    \n",
    "    # Get Q and V\n",
    "    Q = group['Capacity/mA.h/g'].iloc[:idx]\n",
    "    V = group['Ecell/V'].iloc[:idx]\n",
    "    \n",
    "    # Filter\n",
    "    Q_filt = savgol_filter(Q, 1001, 3)\n",
    "    V_filt = savgol_filter(V, 1001, 3)\n",
    "\n",
    "    dQdV = np.gradient(Q_filt, V_filt)\n",
    "    \n",
    "    # Get V_peak\n",
    "    idx1pt2 = np.where(V_filt < 1.2)[0][0]\n",
    "    idx0pt5 = np.where(V_filt < 0.5)[0][0]\n",
    "    peak_idx, _ = find_peaks(-dQdV[idx1pt2:idx0pt5], distance=1e7)\n",
    "    peak_idx = idx1pt2 + peak_idx[0]\n",
    "    \n",
    "    V_peak = V_filt[peak_idx]\n",
    "    dQdV_peak = dQdV[peak_idx]\n",
    "    \n",
    "    print(str(concentration)+'m', V_peak)\n",
    "    \n",
    "    # Plots\n",
    "    ax[2].plot(Q, V, color=colors[k], label=labels[k])\n",
    "    ax_inset1.plot(V_filt, dQdV, color=colors[k])\n",
    "    ax[3].plot(concentration, V_peak, 'o', color=colors[k])\n",
    "    \n",
    "ax[2].legend()\n",
    "\n",
    "plt.tight_layout()\n",
    "plt.savefig(figpath / 'temp_and_salt.eps', bbox_inches='tight', format='eps')"
   ]
  }
 ],
 "metadata": {
  "kernelspec": {
   "display_name": "Python 3",
   "language": "python",
   "name": "python3"
  },
  "language_info": {
   "codemirror_mode": {
    "name": "ipython",
    "version": 3
   },
   "file_extension": ".py",
   "mimetype": "text/x-python",
   "name": "python",
   "nbconvert_exporter": "python",
   "pygments_lexer": "ipython3",
   "version": "3.7.6"
  }
 },
 "nbformat": 4,
 "nbformat_minor": 4
}
