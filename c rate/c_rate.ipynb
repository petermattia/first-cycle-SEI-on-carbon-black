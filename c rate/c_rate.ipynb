{
 "cells": [
  {
   "cell_type": "markdown",
   "metadata": {},
   "source": [
    "# C rate dependence\n",
    "Peter Attia, May 10 2020"
   ]
  },
  {
   "cell_type": "code",
   "execution_count": 1,
   "metadata": {},
   "outputs": [],
   "source": [
    "import re\n",
    "from pathlib import Path\n",
    "import numpy as np\n",
    "import pandas as pd\n",
    "\n",
    "import scipy.stats\n",
    "from scipy.signal import savgol_filter\n",
    "from scipy.signal import find_peaks\n",
    "from scipy.optimize import curve_fit\n",
    "\n",
    "from scipy.constants import R\n",
    "from scipy.constants import physical_constants\n",
    "from scipy.stats import pearsonr\n",
    "\n",
    "import matplotlib.pyplot as plt\n",
    "import matplotlib.cm as cm\n",
    "from matplotlib import rcParams\n",
    "from matplotlib.ticker import AutoMinorLocator\n",
    "from mpl_toolkits.axes_grid1.inset_locator import inset_axes\n",
    "from matplotlib.legend_handler import HandlerBase"
   ]
  },
  {
   "cell_type": "markdown",
   "metadata": {},
   "source": [
    "Set plotting settings:"
   ]
  },
  {
   "cell_type": "code",
   "execution_count": 2,
   "metadata": {},
   "outputs": [],
   "source": [
    "fig_width = 3.25 #ECS spec is 3.25\" width\n",
    "fig_height = (3/4)*fig_width # standard ratio\n",
    "rcParams['lines.markersize'] = 5\n",
    "rcParams['lines.linewidth'] = 1.0\n",
    "rcParams['font.size'] = 7\n",
    "rcParams['legend.fontsize'] = 7\n",
    "rcParams['legend.frameon'] = False\n",
    "rcParams['font.sans-serif'] = 'Arial'\n",
    "rcParams['mathtext.fontset'] = 'custom'\n",
    "rcParams['mathtext.rm'] = 'Arial'\n",
    "rcParams['pdf.fonttype'] = 42\n",
    "rcParams['ps.fonttype'] = 42\n",
    "\n",
    "figpath = Path.cwd().parent / 'figures'"
   ]
  },
  {
   "cell_type": "markdown",
   "metadata": {},
   "source": [
    "## Load data"
   ]
  },
  {
   "cell_type": "markdown",
   "metadata": {},
   "source": [
    "Metadata:"
   ]
  },
  {
   "cell_type": "code",
   "execution_count": 3,
   "metadata": {},
   "outputs": [
    {
     "data": {
      "text/html": [
       "<div>\n",
       "<style scoped>\n",
       "    .dataframe tbody tr th:only-of-type {\n",
       "        vertical-align: middle;\n",
       "    }\n",
       "\n",
       "    .dataframe tbody tr th {\n",
       "        vertical-align: top;\n",
       "    }\n",
       "\n",
       "    .dataframe thead th {\n",
       "        text-align: right;\n",
       "    }\n",
       "</style>\n",
       "<table border=\"1\" class=\"dataframe\">\n",
       "  <thead>\n",
       "    <tr style=\"text-align: right;\">\n",
       "      <th></th>\n",
       "      <th>File name</th>\n",
       "      <th>Mass (mg)</th>\n",
       "      <th>C rate</th>\n",
       "    </tr>\n",
       "  </thead>\n",
       "  <tbody>\n",
       "    <tr>\n",
       "      <th>0</th>\n",
       "      <td>cellA_Cover100_split_CA1</td>\n",
       "      <td>0.977</td>\n",
       "      <td>0.010000</td>\n",
       "    </tr>\n",
       "    <tr>\n",
       "      <th>1</th>\n",
       "      <td>cellA_Cover100_CC4</td>\n",
       "      <td>0.548</td>\n",
       "      <td>0.010000</td>\n",
       "    </tr>\n",
       "    <tr>\n",
       "      <th>2</th>\n",
       "      <td>cellC_Cover30_split_CC5</td>\n",
       "      <td>0.914</td>\n",
       "      <td>0.033333</td>\n",
       "    </tr>\n",
       "    <tr>\n",
       "      <th>3</th>\n",
       "      <td>cellD_Cover30_CC6</td>\n",
       "      <td>0.845</td>\n",
       "      <td>0.033333</td>\n",
       "    </tr>\n",
       "    <tr>\n",
       "      <th>4</th>\n",
       "      <td>cellA_Cover10_CC7</td>\n",
       "      <td>0.776</td>\n",
       "      <td>0.100000</td>\n",
       "    </tr>\n",
       "    <tr>\n",
       "      <th>5</th>\n",
       "      <td>cellE_Cover3_split_CC8</td>\n",
       "      <td>0.809</td>\n",
       "      <td>0.333333</td>\n",
       "    </tr>\n",
       "    <tr>\n",
       "      <th>6</th>\n",
       "      <td>cellC_Cover3_CF6</td>\n",
       "      <td>0.583</td>\n",
       "      <td>0.333333</td>\n",
       "    </tr>\n",
       "    <tr>\n",
       "      <th>7</th>\n",
       "      <td>cellG_1C_split_CD3</td>\n",
       "      <td>0.468</td>\n",
       "      <td>1.000000</td>\n",
       "    </tr>\n",
       "    <tr>\n",
       "      <th>8</th>\n",
       "      <td>cellM_1C_CD5</td>\n",
       "      <td>0.743</td>\n",
       "      <td>1.000000</td>\n",
       "    </tr>\n",
       "    <tr>\n",
       "      <th>9</th>\n",
       "      <td>cellF_3C_split_CF6</td>\n",
       "      <td>1.011</td>\n",
       "      <td>3.000000</td>\n",
       "    </tr>\n",
       "    <tr>\n",
       "      <th>10</th>\n",
       "      <td>cellJ_3C_CD8</td>\n",
       "      <td>0.927</td>\n",
       "      <td>3.000000</td>\n",
       "    </tr>\n",
       "    <tr>\n",
       "      <th>11</th>\n",
       "      <td>cellK_10C_split_CF1</td>\n",
       "      <td>0.868</td>\n",
       "      <td>10.000000</td>\n",
       "    </tr>\n",
       "    <tr>\n",
       "      <th>12</th>\n",
       "      <td>cellC_10C_CF3</td>\n",
       "      <td>0.872</td>\n",
       "      <td>10.000000</td>\n",
       "    </tr>\n",
       "  </tbody>\n",
       "</table>\n",
       "</div>"
      ],
      "text/plain": [
       "                   File name  Mass (mg)     C rate\n",
       "0   cellA_Cover100_split_CA1      0.977   0.010000\n",
       "1         cellA_Cover100_CC4      0.548   0.010000\n",
       "2    cellC_Cover30_split_CC5      0.914   0.033333\n",
       "3          cellD_Cover30_CC6      0.845   0.033333\n",
       "4          cellA_Cover10_CC7      0.776   0.100000\n",
       "5     cellE_Cover3_split_CC8      0.809   0.333333\n",
       "6           cellC_Cover3_CF6      0.583   0.333333\n",
       "7         cellG_1C_split_CD3      0.468   1.000000\n",
       "8               cellM_1C_CD5      0.743   1.000000\n",
       "9         cellF_3C_split_CF6      1.011   3.000000\n",
       "10              cellJ_3C_CD8      0.927   3.000000\n",
       "11       cellK_10C_split_CF1      0.868  10.000000\n",
       "12             cellC_10C_CF3      0.872  10.000000"
      ]
     },
     "execution_count": 3,
     "metadata": {},
     "output_type": "execute_result"
    }
   ],
   "source": [
    "metadata = pd.read_csv('masses.csv')\n",
    "metadata"
   ]
  },
  {
   "cell_type": "markdown",
   "metadata": {},
   "source": [
    "## Constant current data\n",
    "Raw data:"
   ]
  },
  {
   "cell_type": "code",
   "execution_count": 4,
   "metadata": {},
   "outputs": [
    {
     "data": {
      "text/plain": [
       "[PosixPath('/Users/peter/Documents/GitHub/first-cycle-SEI-on-carbon-black/c rate/constant current data/cellA_Cover100_CC4.txt'),\n",
       " PosixPath('/Users/peter/Documents/GitHub/first-cycle-SEI-on-carbon-black/c rate/constant current data/cellJ_3C_CD8.txt'),\n",
       " PosixPath('/Users/peter/Documents/GitHub/first-cycle-SEI-on-carbon-black/c rate/constant current data/cellM_1C_CD5.txt'),\n",
       " PosixPath('/Users/peter/Documents/GitHub/first-cycle-SEI-on-carbon-black/c rate/constant current data/cellC_Cover3_CF6.txt'),\n",
       " PosixPath('/Users/peter/Documents/GitHub/first-cycle-SEI-on-carbon-black/c rate/constant current data/cellD_Cover30_CC6.txt'),\n",
       " PosixPath('/Users/peter/Documents/GitHub/first-cycle-SEI-on-carbon-black/c rate/constant current data/cellC_10C_CF3.txt'),\n",
       " PosixPath('/Users/peter/Documents/GitHub/first-cycle-SEI-on-carbon-black/c rate/constant current data/cellA_Cover10_CC7.txt')]"
      ]
     },
     "execution_count": 4,
     "metadata": {},
     "output_type": "execute_result"
    }
   ],
   "source": [
    "files_constcurr = list((Path.cwd() / 'constant current data').glob('*.txt'))\n",
    "files_constcurr"
   ]
  },
  {
   "cell_type": "markdown",
   "metadata": {},
   "source": [
    "Parse and process:"
   ]
  },
  {
   "cell_type": "code",
   "execution_count": 5,
   "metadata": {},
   "outputs": [
    {
     "name": "stdout",
     "output_type": "stream",
     "text": [
      "cellA_Cover100_CC4: 0.01, C/100\n",
      "Above-0.5 V capacity: 329.6795409315166 mAh/g\n",
      "cellJ_3C_CD8: 3, 3C\n",
      "Above-0.5 V capacity: 162.14482163723514 mAh/g\n",
      "cellM_1C_CD5: 1, 1C\n",
      "Above-0.5 V capacity: 181.21884467092772 mAh/g\n",
      "cellC_Cover3_CF6: 0.3333333333333333, C/3\n",
      "Above-0.5 V capacity: 211.2597294399887 mAh/g\n",
      "cellD_Cover30_CC6: 0.03333333333333333, C/30\n",
      "Above-0.5 V capacity: 255.33292516968072 mAh/g\n",
      "cellC_10C_CF3: 10, 10C\n",
      "Above-0.5 V capacity: 37.88194762373857 mAh/g\n",
      "cellA_Cover10_CC7: 0.1, C/10\n",
      "Above-0.5 V capacity: 228.04904157734615 mAh/g\n"
     ]
    }
   ],
   "source": [
    "all_data_constcurr = {}\n",
    "\n",
    "for file in files_constcurr:\n",
    "    \n",
    "    sub_dict = {}\n",
    "    \n",
    "    # C rate parsing\n",
    "    C_rate = int(re.findall(r'\\d+', file.name.split('_')[1])[0])\n",
    "    C_rate_string = file.name.split('_')[1].replace('over', '/')\n",
    "    \n",
    "    if 'Cover' in file.name:\n",
    "        C_rate = 1 / C_rate\n",
    "    \n",
    "    # Logging\n",
    "    print(f'{file.stem}: {C_rate}, {C_rate_string}')\n",
    "    \n",
    "    # Load data\n",
    "    data = np.loadtxt(file, skiprows=1)\n",
    "    \n",
    "    # Get mass\n",
    "    mass = metadata[metadata['File name'] == file.stem]['Mass (mg)'].iloc[0] / 1000 # mg -> g\n",
    "    \n",
    "    # Normalize capacity by mass\n",
    "    data[:, 2] = data[:, 2] / mass # mAh -> mAh/g\n",
    "    \n",
    "    # Index different cycle numbers\n",
    "    first_lith_idx = np.where(data[:, 0] == 1)[0][0]\n",
    "    second_cycle_idx = np.where(data[:, 0] == 2)[0][0]\n",
    "    second_lith_idx = first_lith_idx + np.where(data[first_lith_idx:second_cycle_idx, 1] == np.max(data[first_lith_idx:second_cycle_idx, 1]))[0][0]\n",
    "    try:\n",
    "        third_cycle_idx = np.where(data[:, 0] == 3)[0][0]\n",
    "        third_lith_idx = second_cycle_idx + np.where(data[second_cycle_idx:third_cycle_idx, 1] == np.max(data[second_cycle_idx:third_cycle_idx, 1]))[0][0]\n",
    "    except IndexError: # 10C data has only 2 cycles\n",
    "        third_lith_idx = second_cycle_idx + np.where(data[second_cycle_idx:, 1] == np.max(data[second_cycle_idx:, 1]))[0][0]\n",
    "    \n",
    "    # Extract (de)lith steps\n",
    "    first_lith_data = data[:first_lith_idx]\n",
    "    first_delith_data = data[first_lith_idx:second_lith_idx]\n",
    "    second_lith_data = data[second_lith_idx:second_cycle_idx]\n",
    "    second_delith_data = data[second_cycle_idx:third_lith_idx]\n",
    "    \n",
    "    # Get first-lithiation capacity above/below 0.5V\n",
    "    idx_0pt5V = np.where(data[:, 1] < 0.5)[0][0]\n",
    "    Qlith_cyc1_above0pt5 = np.max(first_lith_data[:idx_0pt5V])\n",
    "    Qlith_cyc1_below0pt5 = np.max(first_lith_data) - Qlith_cyc1_above0pt5\n",
    "    \n",
    "    print(f'Above-0.5 V capacity: {Qlith_cyc1_above0pt5} mAh/g')\n",
    "    \n",
    "    # Get first-lithiation time\n",
    "    I = 200 * C_rate # 1C = 200 mAh/g\n",
    "    tlith_cyc1 = np.max(first_lith_data) / I # t = Q/I; mAh/g / mA/g -> h\n",
    "    \n",
    "    # Get capacities for CE\n",
    "    Qlith_cyc2 = np.max(second_lith_data)\n",
    "    Qdelith_cyc2 = np.max(second_delith_data)\n",
    "    CE_cyc2 = 100 * Qdelith_cyc2 / Qlith_cyc2\n",
    "    \n",
    "    # Create dictionary    \n",
    "    sub_dict['First lith data'] = first_lith_data\n",
    "    sub_dict['First delith data'] = first_delith_data\n",
    "    sub_dict['Second lith data'] = second_lith_data\n",
    "    sub_dict['Second delith data'] = second_delith_data\n",
    "    \n",
    "    sub_dict['C rate'] = C_rate\n",
    "    sub_dict['C rate string'] = C_rate_string\n",
    "    sub_dict['1st lith capacity above 0.5V'] = Qlith_cyc1_above0pt5\n",
    "    sub_dict['1st lith capacity below 0.5V'] = Qlith_cyc1_below0pt5\n",
    "    sub_dict['1st lith time'] = tlith_cyc1\n",
    "    sub_dict['2nd cycle CE'] = CE_cyc2\n",
    "    \n",
    "    if C_rate_string != '10C':\n",
    "        \n",
    "        Q = first_lith_data[:,2]\n",
    "        V = first_lith_data[:,1]\n",
    "        \n",
    "        # Filter and get dQ/dV\n",
    "        Q_filt = savgol_filter(Q, 101, 1)\n",
    "        V_filt = savgol_filter(V, 101, 1)\n",
    "        dQdV = np.gradient(Q_filt, V_filt)\n",
    "\n",
    "        # Get V_peak\n",
    "        idx1pt2 = np.where(V_filt < 1.2)[0][0]\n",
    "        idx0pt5 = np.where(V_filt < 0.5)[0][0]\n",
    "        peak_idx, _ = find_peaks(-dQdV[idx1pt2:idx0pt5], distance=1e7)\n",
    "        peak_idx = idx1pt2 + peak_idx[0]\n",
    "        \n",
    "        V_peak = V_filt[peak_idx]\n",
    "        dQdV_peak = dQdV[peak_idx]\n",
    "        \n",
    "        sub_dict['V_filt'] = V_filt\n",
    "        sub_dict['dQdV'] = dQdV\n",
    "        sub_dict['V_peak'] = V_peak\n",
    "        sub_dict['dQdV_peak'] = dQdV_peak\n",
    "        \n",
    "    # Append to main dictionary\n",
    "    all_data_constcurr[file.stem] = sub_dict"
   ]
  },
  {
   "cell_type": "markdown",
   "metadata": {},
   "source": [
    "Sort:"
   ]
  },
  {
   "cell_type": "code",
   "execution_count": 6,
   "metadata": {},
   "outputs": [],
   "source": [
    "all_data_constcurr = {k: v for k, v in sorted(all_data_constcurr.items(), key=lambda item: item[1]['C rate'])}"
   ]
  },
  {
   "cell_type": "markdown",
   "metadata": {},
   "source": [
    "Min/max V_peak:"
   ]
  },
  {
   "cell_type": "code",
   "execution_count": 7,
   "metadata": {},
   "outputs": [
    {
     "name": "stdout",
     "output_type": "stream",
     "text": [
      "cellA_Cover100_CC4: 1.0406326495049505\n",
      "cellD_Cover30_CC6: 0.9779112938613862\n",
      "cellA_Cover10_CC7: 0.9191045367326736\n",
      "cellC_Cover3_CF6: 0.8239095846534654\n",
      "cellM_1C_CD5: 0.7610608448514855\n",
      "cellJ_3C_CD8: 0.6743408152475245\n"
     ]
    }
   ],
   "source": [
    "for k, (key, value) in enumerate(all_data_constcurr.items()):\n",
    "    if '10C' not in key:\n",
    "        print(f\"{key}: {value['V_peak']}\")"
   ]
  },
  {
   "cell_type": "markdown",
   "metadata": {},
   "source": [
    "## Multistep data\n",
    "Raw data:"
   ]
  },
  {
   "cell_type": "code",
   "execution_count": 8,
   "metadata": {},
   "outputs": [
    {
     "data": {
      "text/plain": [
       "[PosixPath('/Users/peter/Documents/GitHub/first-cycle-SEI-on-carbon-black/c rate/multistep current data/cellC_Cover30_split_CC5.txt'),\n",
       " PosixPath('/Users/peter/Documents/GitHub/first-cycle-SEI-on-carbon-black/c rate/multistep current data/cellA_Cover100_split_CA1.txt'),\n",
       " PosixPath('/Users/peter/Documents/GitHub/first-cycle-SEI-on-carbon-black/c rate/multistep current data/cellK_10C_split_CF1.txt'),\n",
       " PosixPath('/Users/peter/Documents/GitHub/first-cycle-SEI-on-carbon-black/c rate/multistep current data/cellF_3C_split_CF6.txt'),\n",
       " PosixPath('/Users/peter/Documents/GitHub/first-cycle-SEI-on-carbon-black/c rate/multistep current data/cellE_Cover3_split_CC8.txt'),\n",
       " PosixPath('/Users/peter/Documents/GitHub/first-cycle-SEI-on-carbon-black/c rate/multistep current data/cellG_1C_split_CD3.txt'),\n",
       " PosixPath('/Users/peter/Documents/GitHub/first-cycle-SEI-on-carbon-black/c rate/multistep current data/cellA_Cover10_CC7.txt')]"
      ]
     },
     "execution_count": 8,
     "metadata": {},
     "output_type": "execute_result"
    }
   ],
   "source": [
    "files_multistep = list((Path.cwd() / 'multistep current data').glob('*.txt'))\n",
    "files_multistep"
   ]
  },
  {
   "cell_type": "markdown",
   "metadata": {},
   "source": [
    "Parse and process:"
   ]
  },
  {
   "cell_type": "code",
   "execution_count": 9,
   "metadata": {},
   "outputs": [
    {
     "name": "stdout",
     "output_type": "stream",
     "text": [
      "cellC_Cover30_split_CC5: 0.03333333333333333, C/30(0.5V)-C/10\n",
      "Above-0.5 V capacity: 247.85288801308926 mAh/g\n",
      "cellA_Cover100_split_CA1: 0.01, C/100(0.5V)-C/10\n",
      "Above-0.5 V capacity: 309.343657101797 mAh/g\n",
      "cellK_10C_split_CF1: 10, 10C(0.5V)-C/10\n",
      "Above-0.5 V capacity: 122.86053099298998 mAh/g\n",
      "cellF_3C_split_CF6: 3, 3C(0.5V)-C/10\n",
      "Above-0.5 V capacity: 90.07160064066775 mAh/g\n",
      "cellE_Cover3_split_CC8: 0.3333333333333333, C/3(0.5V)-C/10\n",
      "Above-0.5 V capacity: 215.55660714525166 mAh/g\n",
      "cellG_1C_split_CD3: 1, 1C(0.5V)-C/10\n",
      "Above-0.5 V capacity: 184.28189740078437 mAh/g\n",
      "cellA_Cover10_CC7: 0.1, C/10\n",
      "Above-0.5 V capacity: 227.8824622057669 mAh/g\n"
     ]
    },
    {
     "data": {
      "image/png": "[encoded data removed]",
      "text/plain": [
       "<Figure size 432x288 with 1 Axes>"
      ]
     },
     "metadata": {
      "needs_background": "light"
     },
     "output_type": "display_data"
    },
    {
     "data": {
      "image/png": "[encoded data removed]",
      "text/plain": [
       "<Figure size 432x288 with 1 Axes>"
      ]
     },
     "metadata": {
      "needs_background": "light"
     },
     "output_type": "display_data"
    },
    {
     "data": {
      "image/png": "[encoded data removed]",
      "text/plain": [
       "<Figure size 432x288 with 1 Axes>"
      ]
     },
     "metadata": {
      "needs_background": "light"
     },
     "output_type": "display_data"
    },
    {
     "data": {
      "image/png": "[encoded data removed]",
      "text/plain": [
       "<Figure size 432x288 with 1 Axes>"
      ]
     },
     "metadata": {
      "needs_background": "light"
     },
     "output_type": "display_data"
    },
    {
     "data": {
      "image/png": "[encoded data removed]",
      "text/plain": [
       "<Figure size 432x288 with 1 Axes>"
      ]
     },
     "metadata": {
      "needs_background": "light"
     },
     "output_type": "display_data"
    },
    {
     "data": {
      "image/png": "[encoded data removed]",
      "text/plain": [
       "<Figure size 432x288 with 1 Axes>"
      ]
     },
     "metadata": {
      "needs_background": "light"
     },
     "output_type": "display_data"
    },
    {
     "data": {
      "image/png": "[encoded data removed]",
      "text/plain": [
       "<Figure size 432x288 with 1 Axes>"
      ]
     },
     "metadata": {
      "needs_background": "light"
     },
     "output_type": "display_data"
    }
   ],
   "source": [
    "all_data_multistep = {}\n",
    "\n",
    "for file in files_multistep:\n",
    "    \n",
    "    sub_dict = {}\n",
    "    \n",
    "    # C rate parsing\n",
    "    C_rate = int(re.findall(r'\\d+', file.name.split('_')[1])[0])\n",
    "    C_rate_string = file.name.split('_')[1].replace('over', '/') + '(0.5V)-C/10'\n",
    "    if C_rate_string == 'C/10(0.5V)-C/10':\n",
    "        C_rate_string = 'C/10'\n",
    "    \n",
    "    if 'Cover' in file.name:\n",
    "        C_rate = 1 / C_rate\n",
    "    \n",
    "    # Logging\n",
    "    print(f'{file.stem}: {C_rate}, {C_rate_string}')\n",
    "    \n",
    "    # Load data\n",
    "    data = np.loadtxt(file, skiprows=1)\n",
    "    \n",
    "    # Get mass\n",
    "    mass = metadata[metadata['File name'] == file.stem]['Mass (mg)'].iloc[0] / 1000 # mg -> g\n",
    "    \n",
    "    # Normalize capacity by mass\n",
    "    data[:, 2] = data[:, 2] / mass # mAh -> mAh/g\n",
    "    \n",
    "    # Index different cycle numbers\n",
    "    first_lith_idx = np.where(data[:, 0] == 1)[0][0]\n",
    "    second_cycle_idx = np.where(data[:, 0] == 2)[0][0]\n",
    "    third_cycle_idx = np.where(data[:, 0] == 3)[0][0]\n",
    "    second_lith_idx = first_lith_idx + np.where(data[first_lith_idx:second_cycle_idx, 1] == np.max(data[first_lith_idx:second_cycle_idx, 1]))[0][0]\n",
    "    third_lith_idx = second_cycle_idx + np.where(data[second_cycle_idx:third_cycle_idx, 1] == np.max(data[second_cycle_idx:third_cycle_idx, 1]))[0][0]\n",
    "    \n",
    "    # Extract (de)lith steps\n",
    "    first_lith_data = data[:first_lith_idx]\n",
    "    first_delith_data = data[first_lith_idx:second_lith_idx]\n",
    "    second_lith_data = data[second_lith_idx:second_cycle_idx]\n",
    "    second_delith_data = data[second_cycle_idx:third_lith_idx]\n",
    "    \n",
    "    # Get first-lithiation capacity above/below 0.5V\n",
    "    # I exclude the capacity above 0.5 V *after* the overpotential relaxation\n",
    "    idx_0pt5V_above = np.where(data[:, 1] < 0.501)[0][0]\n",
    "    idx_0pt5V_below = np.where(data[:, 1] < 0.499)[0][0]\n",
    "    Qlith_cyc1_above0pt5 = np.max(first_lith_data[:idx_0pt5V_above])\n",
    "    Qlith_intermediate = first_lith_data[idx_0pt5V_below, 2] - first_lith_data[idx_0pt5V_above, 2]\n",
    "    Qlith_cyc1_below0pt5 = np.max(first_lith_data) - Qlith_cyc1_above0pt5 - Qlith_intermediate\n",
    "    \n",
    "    print(f'Above-0.5 V capacity: {Qlith_cyc1_above0pt5} mAh/g')\n",
    "    \n",
    "    # Get first-lithiation time. a = before split, b = after split\n",
    "    Ia = 200 * C_rate # 1C = 200 mAh/g\n",
    "    Ib = 200 * 0.1 # 1C = 200 mAh/g\n",
    "    tlith_cyc1a = Qlith_cyc1_above0pt5 / Ia # t = Q/I; mAh/g / mA/g -> h\n",
    "    tlith_cyc1b = (Qlith_intermediate + Qlith_cyc1_below0pt5) / Ib # t = Q/I; mAh/g / mA/g -> h\n",
    "    \n",
    "    # Get capacities for CE\n",
    "    Qlith_cyc2 = np.max(second_lith_data)\n",
    "    Qdelith_cyc2 = np.max(second_delith_data)\n",
    "    CE_cyc2 = 100 * Qdelith_cyc2 / Qlith_cyc2\n",
    "    \n",
    "    # Create dictionary\n",
    "    sub_dict['First lith data'] = first_lith_data\n",
    "    sub_dict['First delith data'] = first_delith_data\n",
    "    sub_dict['Second lith data'] = second_lith_data\n",
    "    sub_dict['Second delith data'] = second_delith_data\n",
    "    \n",
    "    sub_dict['C rate'] = C_rate\n",
    "    sub_dict['C rate string'] = C_rate_string\n",
    "    sub_dict['1st lith capacity above 0.5V'] = Qlith_cyc1_above0pt5\n",
    "    sub_dict['1st lith capacity below 0.5V'] = Qlith_cyc1_below0pt5\n",
    "    sub_dict['1st lith time'] = tlith_cyc1a + tlith_cyc1b\n",
    "    sub_dict['2nd cycle CE'] = CE_cyc2\n",
    "    \n",
    "    if C_rate_string != '10C(0.5V)-C/10':\n",
    "        \n",
    "        Q = first_lith_data[:idx_0pt5V_above,2]\n",
    "        V = first_lith_data[:idx_0pt5V_above,1]\n",
    "        \n",
    "        # Filter and get dQ/dV\n",
    "        Q_filt = savgol_filter(Q, 101, 1)\n",
    "        V_filt = savgol_filter(V, 101, 1)\n",
    "        dQdV = np.gradient(Q_filt, V_filt)\n",
    "\n",
    "        # Get V_peak\n",
    "        idx1pt2 = np.where(V_filt < 1.2)[0][0]\n",
    "        peak_idx, _ = find_peaks(-dQdV[idx1pt2:], distance=1e7)\n",
    "        peak_idx = idx1pt2 + peak_idx[0]\n",
    "        \n",
    "        V_peak = V_filt[peak_idx]\n",
    "        dQdV_peak = dQdV[peak_idx]\n",
    "        \n",
    "        sub_dict['V_filt'] = V_filt\n",
    "        sub_dict['dQdV'] = dQdV\n",
    "        sub_dict['V_peak'] = V_peak\n",
    "        sub_dict['dQdV_peak'] = dQdV_peak\n",
    "    \n",
    "    # Append to main dictionary\n",
    "    all_data_multistep[file.stem] = sub_dict\n",
    "    \n",
    "    # Plot as sanity check\n",
    "    plt.figure()\n",
    "    plt.plot(first_lith_data[:, 2], first_lith_data[:, 1])\n",
    "    plt.plot(first_lith_data[idx_0pt5V_above, 2], first_lith_data[idx_0pt5V_above, 1], '.k')\n",
    "    plt.plot(first_lith_data[idx_0pt5V_below, 2], first_lith_data[idx_0pt5V_below, 1], 'sk')"
   ]
  },
  {
   "cell_type": "markdown",
   "metadata": {},
   "source": [
    "Sort:"
   ]
  },
  {
   "cell_type": "code",
   "execution_count": 10,
   "metadata": {},
   "outputs": [],
   "source": [
    "all_data_multistep = {k: v for k, v in sorted(all_data_multistep.items(), key=lambda item: item[1]['C rate'])}"
   ]
  },
  {
   "cell_type": "markdown",
   "metadata": {},
   "source": [
    "## 10C supplementary figure\n",
    "We can see the peak in the second cycle of 10C"
   ]
  },
  {
   "cell_type": "code",
   "execution_count": 11,
   "metadata": {},
   "outputs": [],
   "source": [
    "class AnyObjectHandler(HandlerBase):\n",
    "    def create_artists(self, legend, orig_handle,\n",
    "                       x0, y0, width, height, fontsize, trans):\n",
    "        l1 = plt.Line2D([x0,y0+width], [0.7*height,0.7*height],\n",
    "                           color=orig_handle[0])\n",
    "        l2 = plt.Line2D([x0,y0+width], [0.3*height,0.3*height], \n",
    "                           color=orig_handle[1])\n",
    "        return [l1, l2]"
   ]
  },
  {
   "cell_type": "code",
   "execution_count": 12,
   "metadata": {},
   "outputs": [
    {
     "name": "stderr",
     "output_type": "stream",
     "text": [
      "/Users/peter/anaconda3/lib/python3.7/site-packages/ipykernel_launcher.py:68: UserWarning: This figure includes Axes that are not compatible with tight_layout, so results might be incorrect.\n"
     ]
    },
    {
     "data": {
      "image/png": "[encoded data removed]",
      "text/plain": [
       "<Figure size 234x175.5 with 2 Axes>"
      ]
     },
     "metadata": {
      "needs_background": "light"
     },
     "output_type": "display_data"
    }
   ],
   "source": [
    "fig, ax = plt.subplots(figsize=(fig_width, fig_height), nrows=1, ncols=1)\n",
    "\n",
    "colors_blue = cm.Blues(np.linspace(0.9, 0.3, 5))[:,0:3]\n",
    "colors_red  = cm.Reds( np.linspace(0.9, 0.3, 5))[:,0:3]\n",
    "\n",
    "ax.set_xlabel('Capacity (mAh g$^{-1}$)')\n",
    "ax.set_ylabel('Voltage (V)')\n",
    "ax.set_xlim([0, 420])\n",
    "ax.set_ylim([0, 1.2])\n",
    "ax.xaxis.set_minor_locator(AutoMinorLocator())\n",
    "ax.yaxis.set_minor_locator(AutoMinorLocator())\n",
    "\n",
    "ax_inset0 = inset_axes(ax, width='100%', height='100%',\n",
    "                       bbox_to_anchor=(0.58, 0.375, 0.35, 0.35),\n",
    "                       bbox_transform=ax.transAxes,\n",
    "                       loc='upper left')\n",
    "ax_inset0.set_xlabel('Voltage (V)', labelpad=-0.1)\n",
    "ax_inset0.set_ylabel('dQ/dV')\n",
    "ax_inset0.xaxis.set_minor_locator(AutoMinorLocator())\n",
    "ax_inset0.set_xlim([0.6, 1.0])\n",
    "ax_inset0.set_ylim([-500, 250])\n",
    "ax_inset0.get_yaxis().set_ticks([])\n",
    "ax_inset0.axhline(0, color='tab:gray')\n",
    "\n",
    "\n",
    "lith1 = all_data_constcurr['cellC_10C_CF3']['First lith data']\n",
    "delith1 = all_data_constcurr['cellC_10C_CF3']['First delith data']\n",
    "lith2 = all_data_constcurr['cellC_10C_CF3']['Second lith data']\n",
    "delith2 = all_data_constcurr['cellC_10C_CF3']['Second delith data']\n",
    "\n",
    "ax.plot(lith1[:,2], lith1[:,1], color=colors_blue[0])\n",
    "ax.plot(delith1[:,2], delith1[:,1], color=colors_red[0])\n",
    "ax.plot(lith2[:,2], lith2[:,1], color=colors_blue[1])\n",
    "ax.plot(delith2[:,2], delith2[:,1], color=colors_red[1])\n",
    "\n",
    "# Filter and get dQ/dV\n",
    "filter_size = 101\n",
    "Q_filt_lith1 = savgol_filter(lith1[:,2], filter_size, 1)\n",
    "V_filt_lith1 = savgol_filter(lith1[:,1], filter_size, 1)\n",
    "dQdV_lith1 = np.gradient(Q_filt_lith1, V_filt_lith1)\n",
    "\n",
    "Q_filt_delith1 = savgol_filter(delith1[:,2], filter_size, 1)\n",
    "V_filt_delith1 = savgol_filter(delith1[:,1], filter_size, 1)\n",
    "dQdV_delith1 = np.gradient(Q_filt_delith1, V_filt_delith1)\n",
    "\n",
    "Q_filt_lith2 = savgol_filter(lith2[:,2], filter_size, 1)\n",
    "V_filt_lith2 = savgol_filter(lith2[:,1], filter_size, 1)\n",
    "dQdV_lith2 = np.gradient(Q_filt_lith2, V_filt_lith2)\n",
    "\n",
    "Q_filt_delith2 = savgol_filter(delith2[:,2], filter_size, 1)\n",
    "V_filt_delith2 = savgol_filter(delith2[:,1], filter_size, 1)\n",
    "dQdV_delith2 = np.gradient(Q_filt_delith2, V_filt_delith2)\n",
    "\n",
    "ax_inset0.plot(V_filt_lith1, dQdV_lith1, color=colors_blue[0])\n",
    "ax_inset0.plot(V_filt_delith1, dQdV_delith1, color=colors_red[0])\n",
    "ax_inset0.plot(V_filt_lith2, dQdV_lith2, color=colors_blue[1])\n",
    "ax_inset0.plot(V_filt_delith2, dQdV_delith2, color=colors_red[1])\n",
    "\n",
    "\n",
    "ax.legend([(colors_blue[0], colors_red[0]),\n",
    "            (colors_blue[1], colors_red[1])],\n",
    "            ['Cycle 1', 'Cycle 2'],\n",
    "            handler_map={tuple: AnyObjectHandler()},\n",
    "            loc='upper right',\n",
    "            title='10C')\n",
    "\n",
    "\n",
    "plt.tight_layout()\n",
    "plt.savefig(figpath / 'C_rate_10C.eps', bbox_inches='tight', format='eps')"
   ]
  },
  {
   "cell_type": "markdown",
   "metadata": {},
   "source": [
    "## Create plot"
   ]
  },
  {
   "cell_type": "markdown",
   "metadata": {},
   "source": [
    "Create colors:"
   ]
  },
  {
   "cell_type": "code",
   "execution_count": 13,
   "metadata": {},
   "outputs": [],
   "source": [
    "colors_constcurr  = cm.Blues( np.linspace(0.4, 0.9, len(all_data_constcurr.items())))[:,0:3]\n",
    "colors_multistep  = cm.Purples( np.linspace(0.4, 0.9, len(all_data_multistep.items())))[:,0:3]"
   ]
  },
  {
   "cell_type": "code",
   "execution_count": 14,
   "metadata": {},
   "outputs": [],
   "source": [
    "def make_legend1(ax, loc):\n",
    "    ax.plot(-1, 1, 'ok', label='Constant current')\n",
    "    ax.plot(-1, 1, 'sk', label='Multistep current')\n",
    "    ax.legend(loc=loc)"
   ]
  },
  {
   "cell_type": "code",
   "execution_count": 15,
   "metadata": {},
   "outputs": [
    {
     "name": "stderr",
     "output_type": "stream",
     "text": [
      "/Users/peter/anaconda3/lib/python3.7/site-packages/ipykernel_launcher.py:55: UserWarning: Data has no positive values, and therefore cannot be log-scaled.\n",
      "/Users/peter/anaconda3/lib/python3.7/site-packages/ipykernel_launcher.py:56: UserWarning: Data has no positive values, and therefore cannot be log-scaled.\n",
      "/Users/peter/anaconda3/lib/python3.7/site-packages/ipykernel_launcher.py:57: UserWarning: Data has no positive values, and therefore cannot be log-scaled.\n",
      "/Users/peter/anaconda3/lib/python3.7/site-packages/ipykernel_launcher.py:58: UserWarning: Data has no positive values, and therefore cannot be log-scaled.\n"
     ]
    },
    {
     "data": {
      "image/png": "[encoded data removed]",
      "text/plain": [
       "<Figure size 468x526.5 with 6 Axes>"
      ]
     },
     "metadata": {
      "needs_background": "light"
     },
     "output_type": "display_data"
    }
   ],
   "source": [
    "fig, ax = plt.subplots(figsize=(fig_width*2, fig_height*3), nrows=3, ncols=2)\n",
    "ax = ax.ravel()\n",
    "\n",
    "# Set main axes labels\n",
    "for k, a in enumerate(ax):\n",
    "    a.set_title(chr(97+k), loc='left', weight='bold')\n",
    "    if k == 0 or k == 1:\n",
    "        a.set_xlabel('Capacity (mAh g$^{-1}$)')\n",
    "    else:\n",
    "        a.set_xlabel('Current/current above 0.5 V (C rate)')\n",
    "        make_legend1(a, 'lower left' if k != 2 else 'best')\n",
    "\n",
    "ax[0].set_ylabel('Voltage (V)')\n",
    "ax[1].set_ylabel('Voltage (V)')\n",
    "ax[2].set_ylabel(r'1$^{\\rm st}$-lithiation capacity above 0.5 V (mAh g$^{-1}$)')\n",
    "ax[3].set_ylabel(r'1$^{\\rm st}$-lithiation capacity below 0.5 V (mAh g$^{-1}$)')\n",
    "ax[4].set_ylabel(r'1$^{\\rm st}$-lithiation time (hours)')\n",
    "ax[5].set_ylabel(r'2$^{\\rm nd}$-cycle Coulombic efficiency (%)')\n",
    "\n",
    "ax[0].set_xlim([0, 800])\n",
    "ax[1].set_xlim([0, 800])\n",
    "ax[0].set_ylim([0, 1.2])\n",
    "ax[1].set_ylim([0, 1.2])\n",
    "ax[2].set_ylim([0, 450])\n",
    "ax[3].set_ylim([0, 450])\n",
    "ax[5].set_ylim([40, 100])\n",
    "\n",
    "ax[0].xaxis.set_minor_locator(AutoMinorLocator())\n",
    "ax[1].xaxis.set_minor_locator(AutoMinorLocator())\n",
    "ax[0].yaxis.set_minor_locator(AutoMinorLocator())\n",
    "ax[1].yaxis.set_minor_locator(AutoMinorLocator())\n",
    "ax[2].yaxis.set_minor_locator(AutoMinorLocator())\n",
    "ax[3].yaxis.set_minor_locator(AutoMinorLocator())\n",
    "ax[5].yaxis.set_minor_locator(AutoMinorLocator())\n",
    "\n",
    "ax[1].plot([0, 350], [0.5, 0.5], color='tab:red', lw=0.5, ls=':')\n",
    "\n",
    "## Constant current cycling\n",
    "\n",
    "for k, (key, value) in enumerate(all_data_constcurr.items()):\n",
    "    \n",
    "    # Extract values\n",
    "    first_lith_data = value['First lith data']\n",
    "    C_rate = value['C rate']\n",
    "    C_rate_string = value['C rate string']\n",
    "    CE_cyc2 = value['2nd cycle CE']\n",
    "    tlith_cyc1 = value['1st lith time']\n",
    "    Qlith_cyc1_above0pt5 = value['1st lith capacity above 0.5V']\n",
    "    Qlith_cyc1_below0pt5 = value['1st lith capacity below 0.5V']\n",
    "    \n",
    "    Q = first_lith_data[:, 2]\n",
    "    V = first_lith_data[:, 1]\n",
    "    \n",
    "    ax[0].plot(Q, V, color=colors_constcurr[k], label=C_rate_string)\n",
    "    ax[2].semilogx(C_rate, Qlith_cyc1_above0pt5, 'o', color=colors_constcurr[k])\n",
    "    ax[3].semilogx(C_rate, Qlith_cyc1_below0pt5, 'o', color=colors_constcurr[k])\n",
    "    ax[4].loglog(C_rate, tlith_cyc1, 'o', color=colors_constcurr[k])\n",
    "    ax[5].semilogx(C_rate, CE_cyc2, 'o', color=colors_constcurr[k])\n",
    "    \n",
    "ax[0].legend(loc='upper right', title='Constant current')\n",
    "\n",
    "\n",
    "## Multistep cycling\n",
    "\n",
    "for k, (key, value) in enumerate(all_data_multistep.items()):\n",
    "    \n",
    "    # Extract values\n",
    "    first_lith_data = value['First lith data']\n",
    "    C_rate = value['C rate']\n",
    "    C_rate_string = value['C rate string']\n",
    "    CE_cyc2 = value['2nd cycle CE']\n",
    "    tlith_cyc1 = value['1st lith time']\n",
    "    Qlith_cyc1_above0pt5 = value['1st lith capacity above 0.5V']\n",
    "    Qlith_cyc1_below0pt5 = value['1st lith capacity below 0.5V']\n",
    "        \n",
    "    Q = first_lith_data[:, 2]\n",
    "    V = first_lith_data[:, 1]\n",
    "    \n",
    "    ax[1].plot(Q, V, color=colors_multistep[k], label=C_rate_string)\n",
    "    ax[2].semilogx(C_rate, Qlith_cyc1_above0pt5, 's', color=colors_multistep[k])\n",
    "    ax[3].semilogx(C_rate, Qlith_cyc1_below0pt5, 's', color=colors_multistep[k])\n",
    "    ax[4].loglog(C_rate, tlith_cyc1, 's', color=colors_multistep[k])\n",
    "    ax[5].semilogx(C_rate, CE_cyc2, 's', color=colors_multistep[k])\n",
    "    \n",
    "ax[1].legend(loc='upper right', title='Multistep current')\n",
    "\n",
    "plt.tight_layout()\n",
    "plt.savefig(figpath / 'C_rate.eps', bbox_inches='tight', format='eps')"
   ]
  },
  {
   "cell_type": "markdown",
   "metadata": {},
   "source": [
    "## Correlation analysis and dQ/dV"
   ]
  },
  {
   "cell_type": "markdown",
   "metadata": {},
   "source": [
    "Get all peaks and currents"
   ]
  },
  {
   "cell_type": "code",
   "execution_count": 16,
   "metadata": {},
   "outputs": [],
   "source": [
    "V_peaks = []\n",
    "currents = []\n",
    "\n",
    "for k, (key, value) in enumerate(all_data_constcurr.items()):\n",
    "    \n",
    "    if value['C rate'] < 10:\n",
    "\n",
    "        currents.append(value['C rate'])\n",
    "        V_peaks.append(value['V_peak'])\n",
    "        \n",
    "for k, (key, value) in enumerate(all_data_multistep.items()):\n",
    "    \n",
    "    if value['C rate'] < 3:\n",
    "\n",
    "        currents.append(value['C rate'])\n",
    "        V_peaks.append(value['V_peak'])"
   ]
  },
  {
   "cell_type": "markdown",
   "metadata": {},
   "source": [
    "Linear fit:"
   ]
  },
  {
   "cell_type": "code",
   "execution_count": 17,
   "metadata": {},
   "outputs": [
    {
     "data": {
      "text/plain": [
       "array([-0.14568302,  0.75880378])"
      ]
     },
     "execution_count": 17,
     "metadata": {},
     "output_type": "execute_result"
    }
   ],
   "source": [
    "p = np.polyfit(np.log10(currents), V_peaks, 1)\n",
    "p"
   ]
  },
  {
   "cell_type": "markdown",
   "metadata": {},
   "source": [
    "Plot:"
   ]
  },
  {
   "cell_type": "code",
   "execution_count": 18,
   "metadata": {},
   "outputs": [],
   "source": [
    "def make_legend2(ax, loc):\n",
    "    ax.plot(-100, 1, 'ok', label='Constant current')\n",
    "    ax.plot(-100, 1, 'sk', label='Multistep current')\n",
    "    ax.legend(loc=loc)"
   ]
  },
  {
   "cell_type": "code",
   "execution_count": 19,
   "metadata": {},
   "outputs": [
    {
     "name": "stderr",
     "output_type": "stream",
     "text": [
      "/Users/peter/anaconda3/lib/python3.7/site-packages/ipykernel_launcher.py:135: UserWarning: This figure includes Axes that are not compatible with tight_layout, so results might be incorrect.\n"
     ]
    },
    {
     "data": {
      "image/png": "[encoded data removed]",
      "text/plain": [
       "<Figure size 468x351 with 5 Axes>"
      ]
     },
     "metadata": {
      "needs_background": "light"
     },
     "output_type": "display_data"
    }
   ],
   "source": [
    "Qlith_cyc1_above0pt5_list = []\n",
    "Qlith_cyc1_below0pt5_list = []\n",
    "CE_cyc2_list = []\n",
    "\n",
    "fig, ax = plt.subplots(figsize=(fig_width*2, fig_height*2), nrows=2, ncols=2)\n",
    "ax = ax.ravel()\n",
    "\n",
    "ax_inset3 = inset_axes(ax[3], width='100%', height='100%',\n",
    "                       bbox_to_anchor=(0.125, 0.15, 0.35, 0.35),\n",
    "                       bbox_transform=ax[3].transAxes,\n",
    "                       loc='upper left')\n",
    "\n",
    "ax[0].set_title('a', loc='left', weight='bold')\n",
    "ax[1].set_title('b', loc='left', weight='bold')\n",
    "ax[2].set_title('c', loc='left', weight='bold')\n",
    "ax[3].set_title('d', loc='left', weight='bold')\n",
    "ax_inset3.set_title('Residuals', loc='left', fontsize=7, pad=1.5)\n",
    "\n",
    "ax[0].set_xlabel(r'1$^{\\rm st}$-lithiation capacity above 0.5 V (mAh g$^{-1}$)')\n",
    "ax[1].set_xlabel(r'1$^{\\rm st}$-lithiation capacity below 0.5 V (mAh g$^{-1}$)')\n",
    "ax[2].set_xlabel('Voltage (V)')\n",
    "ax[3].set_xlabel('Current (C rate)')\n",
    "ax[0].set_ylabel(r'2$^{\\rm nd}$-cycle Coulombic efficiency (%)')\n",
    "ax[1].set_ylabel(r'2$^{\\rm nd}$-cycle Coulombic efficiency (%)')\n",
    "ax[2].set_ylabel('dQ/dV (mAh g$^{-1}$ V$^{-1}$)')\n",
    "ax[3].set_ylabel('Peak voltage from dQ/dV (V)')\n",
    "ax_inset3.set_xlabel('Current (C rate)')\n",
    "\n",
    "ax[0].set_xlim([0, 450])\n",
    "ax[1].set_xlim([0, 450])\n",
    "ax[2].set_xlim([0.5, 1.2])\n",
    "ax[3].set_xlim([5e-3, 10])\n",
    "ax[0].set_ylim([40, 100])\n",
    "ax[1].set_ylim([40, 100])\n",
    "ax[2].set_ylim([-3000, 0])\n",
    "ax[3].set_ylim([0.6, 1.1])\n",
    "ax_inset3.set_ylim([-0.018, 0.018])\n",
    "\n",
    "ax[0].xaxis.set_minor_locator(AutoMinorLocator())\n",
    "ax[1].xaxis.set_minor_locator(AutoMinorLocator())\n",
    "ax[2].xaxis.set_minor_locator(AutoMinorLocator())\n",
    "ax[3].xaxis.set_minor_locator(AutoMinorLocator())\n",
    "ax[0].yaxis.set_minor_locator(AutoMinorLocator())\n",
    "ax[1].yaxis.set_minor_locator(AutoMinorLocator())\n",
    "ax[2].yaxis.set_minor_locator(AutoMinorLocator())\n",
    "\n",
    "ax_inset3.axhline(0, color='tab:gray')\n",
    "ax_inset3.tick_params(\n",
    "    axis='x',\n",
    "    which='both',\n",
    "    bottom=False,\n",
    "    top=False,\n",
    "    labelbottom=False)\n",
    "\n",
    "make_legend2(ax[0], 'lower right')\n",
    "make_legend2(ax[1], 'lower right')\n",
    "make_legend1(ax[3], 'upper right')\n",
    "\n",
    "\n",
    "for k, (key, value) in enumerate(all_data_constcurr.items()):\n",
    "    \n",
    "    # Extract values\n",
    "    C_rate_string = value['C rate string']\n",
    "    C_rate = value['C rate']\n",
    "    \n",
    "    Qlith_cyc1_above0pt5_list.append(value['1st lith capacity above 0.5V'])\n",
    "    Qlith_cyc1_below0pt5_list.append(value['1st lith capacity below 0.5V'])\n",
    "    CE_cyc2_list.append(value['2nd cycle CE'])\n",
    "    \n",
    "    first_lith_data = value['First lith data']\n",
    "    Q = first_lith_data[:, 2]\n",
    "    V = first_lith_data[:, 1]\n",
    "    \n",
    "    ax[0].plot(Qlith_cyc1_above0pt5_list[-1], CE_cyc2_list[-1], 'o', color=colors_constcurr[k])\n",
    "    ax[1].plot(Qlith_cyc1_below0pt5_list[-1], CE_cyc2_list[-1], 'o', color=colors_constcurr[k])\n",
    "    \n",
    "    # Plots\n",
    "    if C_rate != 10:\n",
    "        \n",
    "        # Get values\n",
    "        V_filt = value['V_filt']\n",
    "        dQdV = value['dQdV']\n",
    "        V_peak = value['V_peak']\n",
    "        dQdV_peak = value['dQdV_peak']\n",
    "        \n",
    "        # Plot\n",
    "        ax[2].plot(V_filt, dQdV, color=colors_constcurr[k], label=C_rate_string)\n",
    "        ax[2].plot(V_peak, dQdV_peak, 'ok')\n",
    "        ax[3].semilogx(C_rate, V_peak, 'o', color=colors_constcurr[k])\n",
    "        \n",
    "        residual = V_peak - (p[0] * np.log10(C_rate) + p[1])\n",
    "        ax_inset3.semilogx(C_rate, residual, 'o', color=colors_constcurr[k])\n",
    "    \n",
    "\n",
    "for k, (key, value) in enumerate(all_data_multistep.items()):\n",
    "    \n",
    "    C_rate = value['C rate']\n",
    "    \n",
    "    Qlith_cyc1_above0pt5_list.append(value['1st lith capacity above 0.5V'])\n",
    "    Qlith_cyc1_below0pt5_list.append(value['1st lith capacity below 0.5V'])\n",
    "    CE_cyc2_list.append(value['2nd cycle CE'])\n",
    "    \n",
    "    ax[0].plot(Qlith_cyc1_above0pt5_list[-1], CE_cyc2_list[-1], 's', color=colors_multistep[k])\n",
    "    ax[1].plot(Qlith_cyc1_below0pt5_list[-1], CE_cyc2_list[-1], 's', color=colors_multistep[k])\n",
    "    \n",
    "    # Plots\n",
    "    if C_rate < 3:\n",
    "        \n",
    "        # Get values\n",
    "        V_peak = value['V_peak']\n",
    "        \n",
    "        # Plot\n",
    "        ax[3].semilogx(C_rate, V_peak, 's', color=colors_multistep[k])\n",
    "        \n",
    "        residual = V_peak - (p[0] * np.log10(C_rate) + p[1])\n",
    "        ax_inset3.semilogx(C_rate, residual, 's', color=colors_multistep[k])\n",
    "        \n",
    "# Get correlations\n",
    "r_above = pearsonr(Qlith_cyc1_above0pt5_list, CE_cyc2_list)[0]\n",
    "r_below = pearsonr(Qlith_cyc1_below0pt5_list, CE_cyc2_list)[0]\n",
    "    \n",
    "ax[0].legend(title='$r=%.2f$' % r_above)\n",
    "ax[1].legend(title='$r=%.2f$' % r_below, loc='lower right')\n",
    "ax[2].legend(title='Constant current', loc='lower left')\n",
    "\n",
    "eqn_label = '$V_{peak}=%.2f' % p[0] + 'I + %.2f$' % p[1]\n",
    "\n",
    "# Plot linear fit\n",
    "C_rate_logspace = np.logspace(-2.15, 0.8, 100)\n",
    "ax[3].semilogx(C_rate_logspace, p[0]*np.log10(C_rate_logspace) + p[1],\n",
    "               'k', label=eqn_label)\n",
    "\n",
    "ax[3].legend()\n",
    "\n",
    "plt.tight_layout()\n",
    "plt.savefig(figpath / 'C_rate_extras.eps', bbox_inches='tight', format='eps')"
   ]
  }
 ],
 "metadata": {
  "kernelspec": {
   "display_name": "Python 3",
   "language": "python",
   "name": "python3"
  },
  "language_info": {
   "codemirror_mode": {
    "name": "ipython",
    "version": 3
   },
   "file_extension": ".py",
   "mimetype": "text/x-python",
   "name": "python",
   "nbconvert_exporter": "python",
   "pygments_lexer": "ipython3",
   "version": "3.7.6"
  }
 },
 "nbformat": 4,
 "nbformat_minor": 4
}
