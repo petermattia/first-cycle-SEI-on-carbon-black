{
 "cells": [
  {
   "cell_type": "markdown",
   "metadata": {},
   "source": [
    "# Carbon comparison\n",
    "Peter Attia\n",
    "\n",
    "This notebook compares the first few cycles of graphite and carbon black half cells."
   ]
  },
  {
   "cell_type": "code",
   "execution_count": 1,
   "metadata": {},
   "outputs": [],
   "source": [
    "from pathlib import Path\n",
    "\n",
    "import numpy as np\n",
    "import pandas as pd\n",
    "import scipy.io as sio\n",
    "from scipy.signal import savgol_filter\n",
    "\n",
    "import matplotlib.pyplot as plt\n",
    "import matplotlib.cm as cm\n",
    "from matplotlib import rcParams\n",
    "from matplotlib.ticker import AutoMinorLocator\n",
    "from mpl_toolkits.axes_grid1.inset_locator import inset_axes\n",
    "from matplotlib.legend_handler import HandlerBase"
   ]
  },
  {
   "cell_type": "markdown",
   "metadata": {},
   "source": [
    "Set plotting settings:"
   ]
  },
  {
   "cell_type": "code",
   "execution_count": 2,
   "metadata": {},
   "outputs": [],
   "source": [
    "fig_width = 3.25 #ECS spec is 3.25\" width\n",
    "fig_height = (3/4)*fig_width # standard ratio\n",
    "rcParams['lines.markersize'] = 5\n",
    "rcParams['lines.linewidth'] = 1.0\n",
    "rcParams['font.size'] = 7\n",
    "rcParams['legend.fontsize'] = 7\n",
    "rcParams['legend.frameon'] = False\n",
    "rcParams['font.sans-serif'] = 'Arial'\n",
    "rcParams['mathtext.fontset'] = 'custom'\n",
    "rcParams['mathtext.rm'] = 'Arial'\n",
    "rcParams['pdf.fonttype'] = 42\n",
    "rcParams['ps.fonttype'] = 42\n",
    "\n",
    "figpath = Path.cwd().parent / 'figures'"
   ]
  },
  {
   "cell_type": "markdown",
   "metadata": {},
   "source": [
    "## Load graphite data"
   ]
  },
  {
   "cell_type": "code",
   "execution_count": 3,
   "metadata": {},
   "outputs": [
    {
     "data": {
      "text/html": [
       "<div>\n",
       "<style scoped>\n",
       "    .dataframe tbody tr th:only-of-type {\n",
       "        vertical-align: middle;\n",
       "    }\n",
       "\n",
       "    .dataframe tbody tr th {\n",
       "        vertical-align: top;\n",
       "    }\n",
       "\n",
       "    .dataframe thead th {\n",
       "        text-align: right;\n",
       "    }\n",
       "</style>\n",
       "<table border=\"1\" class=\"dataframe\">\n",
       "  <thead>\n",
       "    <tr style=\"text-align: right;\">\n",
       "      <th></th>\n",
       "      <th>Test_ID</th>\n",
       "      <th>Data_Point</th>\n",
       "      <th>Test_Time</th>\n",
       "      <th>Step_Time</th>\n",
       "      <th>DateTime</th>\n",
       "      <th>Step_Index</th>\n",
       "      <th>Cycle_Index</th>\n",
       "      <th>Is_FC_Data</th>\n",
       "      <th>Current</th>\n",
       "      <th>Voltage</th>\n",
       "      <th>Charge_Capacity</th>\n",
       "      <th>Discharge_Capacity</th>\n",
       "      <th>Charge_Energy</th>\n",
       "      <th>Discharge_Energy</th>\n",
       "      <th>dV/dt</th>\n",
       "      <th>Internal_Resistance</th>\n",
       "      <th>AC_Impedance</th>\n",
       "      <th>ACI_Phase_Angle</th>\n",
       "    </tr>\n",
       "  </thead>\n",
       "  <tbody>\n",
       "    <tr>\n",
       "      <th>0</th>\n",
       "      <td>1</td>\n",
       "      <td>1</td>\n",
       "      <td>0.060000</td>\n",
       "      <td>0.000002</td>\n",
       "      <td>42625.929688</td>\n",
       "      <td>1</td>\n",
       "      <td>1</td>\n",
       "      <td>0</td>\n",
       "      <td>-0.000323</td>\n",
       "      <td>1.980894</td>\n",
       "      <td>0.0</td>\n",
       "      <td>2.110000e-13</td>\n",
       "      <td>0.0</td>\n",
       "      <td>4.170000e-13</td>\n",
       "      <td>0.000000</td>\n",
       "      <td>0</td>\n",
       "      <td>0</td>\n",
       "      <td>0</td>\n",
       "    </tr>\n",
       "    <tr>\n",
       "      <th>1</th>\n",
       "      <td>1</td>\n",
       "      <td>2</td>\n",
       "      <td>0.079868</td>\n",
       "      <td>0.019871</td>\n",
       "      <td>42625.929688</td>\n",
       "      <td>1</td>\n",
       "      <td>1</td>\n",
       "      <td>0</td>\n",
       "      <td>-0.000328</td>\n",
       "      <td>1.952418</td>\n",
       "      <td>0.0</td>\n",
       "      <td>1.797707e-09</td>\n",
       "      <td>0.0</td>\n",
       "      <td>3.535473e-09</td>\n",
       "      <td>-0.005695</td>\n",
       "      <td>0</td>\n",
       "      <td>0</td>\n",
       "      <td>0</td>\n",
       "    </tr>\n",
       "    <tr>\n",
       "      <th>2</th>\n",
       "      <td>1</td>\n",
       "      <td>3</td>\n",
       "      <td>0.119877</td>\n",
       "      <td>0.059880</td>\n",
       "      <td>42625.929688</td>\n",
       "      <td>1</td>\n",
       "      <td>1</td>\n",
       "      <td>0</td>\n",
       "      <td>-0.000328</td>\n",
       "      <td>1.942858</td>\n",
       "      <td>0.0</td>\n",
       "      <td>5.444511e-09</td>\n",
       "      <td>0.0</td>\n",
       "      <td>1.064682e-08</td>\n",
       "      <td>-0.007607</td>\n",
       "      <td>0</td>\n",
       "      <td>0</td>\n",
       "      <td>0</td>\n",
       "    </tr>\n",
       "    <tr>\n",
       "      <th>3</th>\n",
       "      <td>1</td>\n",
       "      <td>4</td>\n",
       "      <td>0.159786</td>\n",
       "      <td>0.099789</td>\n",
       "      <td>42625.929688</td>\n",
       "      <td>1</td>\n",
       "      <td>1</td>\n",
       "      <td>0</td>\n",
       "      <td>-0.000328</td>\n",
       "      <td>1.934722</td>\n",
       "      <td>0.0</td>\n",
       "      <td>9.082147e-09</td>\n",
       "      <td>0.0</td>\n",
       "      <td>1.770694e-08</td>\n",
       "      <td>-0.009234</td>\n",
       "      <td>0</td>\n",
       "      <td>0</td>\n",
       "      <td>0</td>\n",
       "    </tr>\n",
       "    <tr>\n",
       "      <th>4</th>\n",
       "      <td>1</td>\n",
       "      <td>5</td>\n",
       "      <td>0.199842</td>\n",
       "      <td>0.139845</td>\n",
       "      <td>42625.929688</td>\n",
       "      <td>1</td>\n",
       "      <td>1</td>\n",
       "      <td>0</td>\n",
       "      <td>-0.000328</td>\n",
       "      <td>1.926789</td>\n",
       "      <td>0.0</td>\n",
       "      <td>1.273323e-08</td>\n",
       "      <td>0.0</td>\n",
       "      <td>2.476356e-08</td>\n",
       "      <td>-0.010821</td>\n",
       "      <td>0</td>\n",
       "      <td>0</td>\n",
       "      <td>0</td>\n",
       "    </tr>\n",
       "  </tbody>\n",
       "</table>\n",
       "</div>"
      ],
      "text/plain": [
       "   Test_ID  Data_Point  Test_Time  Step_Time      DateTime  Step_Index  \\\n",
       "0        1           1   0.060000   0.000002  42625.929688           1   \n",
       "1        1           2   0.079868   0.019871  42625.929688           1   \n",
       "2        1           3   0.119877   0.059880  42625.929688           1   \n",
       "3        1           4   0.159786   0.099789  42625.929688           1   \n",
       "4        1           5   0.199842   0.139845  42625.929688           1   \n",
       "\n",
       "   Cycle_Index  Is_FC_Data   Current   Voltage  Charge_Capacity  \\\n",
       "0            1           0 -0.000323  1.980894              0.0   \n",
       "1            1           0 -0.000328  1.952418              0.0   \n",
       "2            1           0 -0.000328  1.942858              0.0   \n",
       "3            1           0 -0.000328  1.934722              0.0   \n",
       "4            1           0 -0.000328  1.926789              0.0   \n",
       "\n",
       "   Discharge_Capacity  Charge_Energy  Discharge_Energy     dV/dt  \\\n",
       "0        2.110000e-13            0.0      4.170000e-13  0.000000   \n",
       "1        1.797707e-09            0.0      3.535473e-09 -0.005695   \n",
       "2        5.444511e-09            0.0      1.064682e-08 -0.007607   \n",
       "3        9.082147e-09            0.0      1.770694e-08 -0.009234   \n",
       "4        1.273323e-08            0.0      2.476356e-08 -0.010821   \n",
       "\n",
       "   Internal_Resistance  AC_Impedance  ACI_Phase_Angle  \n",
       "0                    0             0                0  \n",
       "1                    0             0                0  \n",
       "2                    0             0                0  \n",
       "3                    0             0                0  \n",
       "4                    0             0                0  "
      ]
     },
     "execution_count": 3,
     "metadata": {},
     "output_type": "execute_result"
    }
   ],
   "source": [
    "df_graphite = pd.read_excel('A123 graphite coin cell.xlsx', sheet_name='Channel_Normal_Table')\n",
    "df_graphite.head()"
   ]
  },
  {
   "cell_type": "markdown",
   "metadata": {},
   "source": [
    "Normalize capacities:"
   ]
  },
  {
   "cell_type": "code",
   "execution_count": 4,
   "metadata": {},
   "outputs": [],
   "source": [
    "mass = 8.483 / 1000 # coin cell mass; mg -> g\n",
    "df_graphite.Charge_Capacity = df_graphite.Charge_Capacity / mass * 1000 # Ah -> mAh/g\n",
    "df_graphite.Discharge_Capacity = df_graphite.Discharge_Capacity / mass * 1000 # Ah -> mAh/g"
   ]
  },
  {
   "cell_type": "markdown",
   "metadata": {},
   "source": [
    "Drop all but first 5 cycles:"
   ]
  },
  {
   "cell_type": "code",
   "execution_count": 5,
   "metadata": {},
   "outputs": [],
   "source": [
    "df_graphite = df_graphite[df_graphite['Cycle_Index'] < 6]"
   ]
  },
  {
   "cell_type": "markdown",
   "metadata": {},
   "source": [
    "Plot discharge and charge as sanity check:"
   ]
  },
  {
   "cell_type": "code",
   "execution_count": 6,
   "metadata": {},
   "outputs": [
    {
     "data": {
      "text/plain": [
       "[<matplotlib.lines.Line2D at 0x1a1c96b950>]"
      ]
     },
     "execution_count": 6,
     "metadata": {},
     "output_type": "execute_result"
    },
    {
     "data": {
      "image/png": "[encoded data removed]",
      "text/plain": [
       "<Figure size 432x288 with 1 Axes>"
      ]
     },
     "metadata": {
      "needs_background": "light"
     },
     "output_type": "display_data"
    }
   ],
   "source": [
    "plt.plot(df_graphite['Discharge_Capacity'], df_graphite['Voltage'])"
   ]
  },
  {
   "cell_type": "code",
   "execution_count": 7,
   "metadata": {},
   "outputs": [
    {
     "data": {
      "text/plain": [
       "[<matplotlib.lines.Line2D at 0x1a1f7e7610>]"
      ]
     },
     "execution_count": 7,
     "metadata": {},
     "output_type": "execute_result"
    },
    {
     "data": {
      "image/png": "[encoded data removed]",
      "text/plain": [
       "<Figure size 432x288 with 1 Axes>"
      ]
     },
     "metadata": {
      "needs_background": "light"
     },
     "output_type": "display_data"
    }
   ],
   "source": [
    "plt.plot(df_graphite['Charge_Capacity'], df_graphite['Voltage'])"
   ]
  },
  {
   "cell_type": "code",
   "execution_count": 8,
   "metadata": {},
   "outputs": [],
   "source": [
    "CE_graphite = []\n",
    "\n",
    "for cycle, group in df_graphite.groupby('Cycle_Index'):\n",
    "\n",
    "    CE = group['Charge_Capacity'].iloc[-1] / group['Discharge_Capacity'].iloc[-1]\n",
    "    \n",
    "    CE_graphite.append(CE)\n",
    "    \n",
    "CE_graphite = np.array(CE_graphite)"
   ]
  },
  {
   "cell_type": "markdown",
   "metadata": {},
   "source": [
    "## Load carbon black data\n",
    "I can't find the original data with cycle/step indices unfortunately, but I do have a `.mat` file from back in the day"
   ]
  },
  {
   "cell_type": "code",
   "execution_count": 9,
   "metadata": {},
   "outputs": [],
   "source": [
    "data_CB = sio.loadmat('carbon black.mat')\n",
    "Q_CB = data_CB['Q'][0]\n",
    "V_CB = data_CB['V'][0]"
   ]
  },
  {
   "cell_type": "markdown",
   "metadata": {},
   "source": [
    "Test:"
   ]
  },
  {
   "cell_type": "code",
   "execution_count": 10,
   "metadata": {},
   "outputs": [
    {
     "data": {
      "text/plain": [
       "[<matplotlib.lines.Line2D at 0x1a1f9bbcd0>]"
      ]
     },
     "execution_count": 10,
     "metadata": {},
     "output_type": "execute_result"
    },
    {
     "data": {
      "image/png": "[encoded data removed]",
      "text/plain": [
       "<Figure size 432x288 with 1 Axes>"
      ]
     },
     "metadata": {
      "needs_background": "light"
     },
     "output_type": "display_data"
    }
   ],
   "source": [
    "plt.plot(Q_CB[0], V_CB[0])"
   ]
  },
  {
   "cell_type": "markdown",
   "metadata": {},
   "source": [
    "Get CE:"
   ]
  },
  {
   "cell_type": "code",
   "execution_count": 11,
   "metadata": {},
   "outputs": [],
   "source": [
    "CE_carbon_black = []\n",
    "\n",
    "for k in np.arange(5):\n",
    "    \n",
    "    # Get last index before capacity drops back down to ~0 for delithiation\n",
    "    idx = (np.where(Q_CB[k][1000:] < 1)[0][0] + 1000) - 1\n",
    "    \n",
    "    CE = Q_CB[k][-1] / Q_CB[k][idx]\n",
    "    \n",
    "    CE_carbon_black.append(CE)\n",
    "    \n",
    "CE_carbon_black = np.array(CE_carbon_black)"
   ]
  },
  {
   "cell_type": "markdown",
   "metadata": {},
   "source": [
    "Quick plot of CE:"
   ]
  },
  {
   "cell_type": "code",
   "execution_count": 12,
   "metadata": {},
   "outputs": [
    {
     "data": {
      "text/plain": [
       "[<matplotlib.lines.Line2D at 0x1a1fc48ad0>]"
      ]
     },
     "execution_count": 12,
     "metadata": {},
     "output_type": "execute_result"
    },
    {
     "data": {
      "image/png": "[encoded data removed]",
      "text/plain": [
       "<Figure size 432x288 with 1 Axes>"
      ]
     },
     "metadata": {
      "needs_background": "light"
     },
     "output_type": "display_data"
    }
   ],
   "source": [
    "graphite_area = 3.5 * 8.483 / 1000 # m2/g * (mg -> g) = m2\n",
    "CB_area = 65 * 0.889 / 1000 # m2/g * (mg -> g) = m2\n",
    "\n",
    "plt.plot(np.arange(5)+1, 100 * (1 - CE_graphite) / graphite_area, 'o')\n",
    "plt.plot(np.arange(4)+2, 100 * (1 - CE_carbon_black[1:]) / CB_area, 'o')"
   ]
  },
  {
   "cell_type": "markdown",
   "metadata": {},
   "source": [
    "## Create plot"
   ]
  },
  {
   "cell_type": "markdown",
   "metadata": {},
   "source": [
    "Helper function for legend with multiple lines per entry [here](https://stackoverflow.com/questions/41752309/single-legend-item-with-two-lines)"
   ]
  },
  {
   "cell_type": "code",
   "execution_count": 13,
   "metadata": {},
   "outputs": [],
   "source": [
    "class AnyObjectHandler(HandlerBase):\n",
    "    def create_artists(self, legend, orig_handle,\n",
    "                       x0, y0, width, height, fontsize, trans):\n",
    "        l1 = plt.Line2D([x0,y0+width], [0.7*height,0.7*height],\n",
    "                           color=orig_handle[0])\n",
    "        l2 = plt.Line2D([x0,y0+width], [0.3*height,0.3*height], \n",
    "                           color=orig_handle[1])\n",
    "        return [l1, l2]"
   ]
  },
  {
   "cell_type": "code",
   "execution_count": 14,
   "metadata": {},
   "outputs": [
    {
     "name": "stderr",
     "output_type": "stream",
     "text": [
      "/Users/peter/anaconda3/lib/python3.7/site-packages/numpy/lib/function_base.py:1072: RuntimeWarning: divide by zero encountered in true_divide\n",
      "  a = -(dx2)/(dx1 * (dx1 + dx2))\n",
      "/Users/peter/anaconda3/lib/python3.7/site-packages/numpy/lib/function_base.py:1072: RuntimeWarning: invalid value encountered in true_divide\n",
      "  a = -(dx2)/(dx1 * (dx1 + dx2))\n",
      "/Users/peter/anaconda3/lib/python3.7/site-packages/numpy/lib/function_base.py:1073: RuntimeWarning: divide by zero encountered in true_divide\n",
      "  b = (dx2 - dx1) / (dx1 * dx2)\n",
      "/Users/peter/anaconda3/lib/python3.7/site-packages/numpy/lib/function_base.py:1073: RuntimeWarning: invalid value encountered in true_divide\n",
      "  b = (dx2 - dx1) / (dx1 * dx2)\n",
      "/Users/peter/anaconda3/lib/python3.7/site-packages/numpy/lib/function_base.py:1074: RuntimeWarning: divide by zero encountered in true_divide\n",
      "  c = dx1 / (dx2 * (dx1 + dx2))\n",
      "/Users/peter/anaconda3/lib/python3.7/site-packages/numpy/lib/function_base.py:1074: RuntimeWarning: invalid value encountered in true_divide\n",
      "  c = dx1 / (dx2 * (dx1 + dx2))\n",
      "/Users/peter/anaconda3/lib/python3.7/site-packages/numpy/lib/function_base.py:1080: RuntimeWarning: invalid value encountered in add\n",
      "  out[tuple(slice1)] = a * f[tuple(slice2)] + b * f[tuple(slice3)] + c * f[tuple(slice4)]\n",
      "/Users/peter/anaconda3/lib/python3.7/site-packages/numpy/lib/function_base.py:1072: RuntimeWarning: divide by zero encountered in true_divide\n",
      "  a = -(dx2)/(dx1 * (dx1 + dx2))\n",
      "/Users/peter/anaconda3/lib/python3.7/site-packages/numpy/lib/function_base.py:1072: RuntimeWarning: invalid value encountered in true_divide\n",
      "  a = -(dx2)/(dx1 * (dx1 + dx2))\n",
      "/Users/peter/anaconda3/lib/python3.7/site-packages/numpy/lib/function_base.py:1073: RuntimeWarning: divide by zero encountered in true_divide\n",
      "  b = (dx2 - dx1) / (dx1 * dx2)\n",
      "/Users/peter/anaconda3/lib/python3.7/site-packages/numpy/lib/function_base.py:1073: RuntimeWarning: invalid value encountered in true_divide\n",
      "  b = (dx2 - dx1) / (dx1 * dx2)\n",
      "/Users/peter/anaconda3/lib/python3.7/site-packages/numpy/lib/function_base.py:1074: RuntimeWarning: divide by zero encountered in true_divide\n",
      "  c = dx1 / (dx2 * (dx1 + dx2))\n",
      "/Users/peter/anaconda3/lib/python3.7/site-packages/numpy/lib/function_base.py:1074: RuntimeWarning: invalid value encountered in true_divide\n",
      "  c = dx1 / (dx2 * (dx1 + dx2))\n",
      "/Users/peter/anaconda3/lib/python3.7/site-packages/numpy/lib/function_base.py:1080: RuntimeWarning: invalid value encountered in add\n",
      "  out[tuple(slice1)] = a * f[tuple(slice2)] + b * f[tuple(slice3)] + c * f[tuple(slice4)]\n",
      "/Users/peter/anaconda3/lib/python3.7/site-packages/numpy/lib/function_base.py:1072: RuntimeWarning: divide by zero encountered in true_divide\n",
      "  a = -(dx2)/(dx1 * (dx1 + dx2))\n",
      "/Users/peter/anaconda3/lib/python3.7/site-packages/numpy/lib/function_base.py:1073: RuntimeWarning: divide by zero encountered in true_divide\n",
      "  b = (dx2 - dx1) / (dx1 * dx2)\n",
      "/Users/peter/anaconda3/lib/python3.7/site-packages/numpy/lib/function_base.py:1074: RuntimeWarning: divide by zero encountered in true_divide\n",
      "  c = dx1 / (dx2 * (dx1 + dx2))\n",
      "/Users/peter/anaconda3/lib/python3.7/site-packages/numpy/lib/function_base.py:1080: RuntimeWarning: invalid value encountered in add\n",
      "  out[tuple(slice1)] = a * f[tuple(slice2)] + b * f[tuple(slice3)] + c * f[tuple(slice4)]\n",
      "/Users/peter/anaconda3/lib/python3.7/site-packages/numpy/lib/function_base.py:1072: RuntimeWarning: divide by zero encountered in true_divide\n",
      "  a = -(dx2)/(dx1 * (dx1 + dx2))\n",
      "/Users/peter/anaconda3/lib/python3.7/site-packages/numpy/lib/function_base.py:1073: RuntimeWarning: divide by zero encountered in true_divide\n",
      "  b = (dx2 - dx1) / (dx1 * dx2)\n",
      "/Users/peter/anaconda3/lib/python3.7/site-packages/numpy/lib/function_base.py:1074: RuntimeWarning: divide by zero encountered in true_divide\n",
      "  c = dx1 / (dx2 * (dx1 + dx2))\n",
      "/Users/peter/anaconda3/lib/python3.7/site-packages/numpy/lib/function_base.py:1080: RuntimeWarning: invalid value encountered in add\n",
      "  out[tuple(slice1)] = a * f[tuple(slice2)] + b * f[tuple(slice3)] + c * f[tuple(slice4)]\n",
      "/Users/peter/anaconda3/lib/python3.7/site-packages/numpy/lib/function_base.py:1072: RuntimeWarning: divide by zero encountered in true_divide\n",
      "  a = -(dx2)/(dx1 * (dx1 + dx2))\n",
      "/Users/peter/anaconda3/lib/python3.7/site-packages/numpy/lib/function_base.py:1073: RuntimeWarning: divide by zero encountered in true_divide\n",
      "  b = (dx2 - dx1) / (dx1 * dx2)\n",
      "/Users/peter/anaconda3/lib/python3.7/site-packages/numpy/lib/function_base.py:1074: RuntimeWarning: divide by zero encountered in true_divide\n",
      "  c = dx1 / (dx2 * (dx1 + dx2))\n",
      "/Users/peter/anaconda3/lib/python3.7/site-packages/numpy/lib/function_base.py:1080: RuntimeWarning: invalid value encountered in add\n",
      "  out[tuple(slice1)] = a * f[tuple(slice2)] + b * f[tuple(slice3)] + c * f[tuple(slice4)]\n",
      "/Users/peter/anaconda3/lib/python3.7/site-packages/numpy/lib/function_base.py:1072: RuntimeWarning: divide by zero encountered in true_divide\n",
      "  a = -(dx2)/(dx1 * (dx1 + dx2))\n",
      "/Users/peter/anaconda3/lib/python3.7/site-packages/numpy/lib/function_base.py:1072: RuntimeWarning: invalid value encountered in true_divide\n",
      "  a = -(dx2)/(dx1 * (dx1 + dx2))\n",
      "/Users/peter/anaconda3/lib/python3.7/site-packages/numpy/lib/function_base.py:1073: RuntimeWarning: divide by zero encountered in true_divide\n",
      "  b = (dx2 - dx1) / (dx1 * dx2)\n",
      "/Users/peter/anaconda3/lib/python3.7/site-packages/numpy/lib/function_base.py:1073: RuntimeWarning: invalid value encountered in true_divide\n",
      "  b = (dx2 - dx1) / (dx1 * dx2)\n",
      "/Users/peter/anaconda3/lib/python3.7/site-packages/numpy/lib/function_base.py:1074: RuntimeWarning: divide by zero encountered in true_divide\n",
      "  c = dx1 / (dx2 * (dx1 + dx2))\n",
      "/Users/peter/anaconda3/lib/python3.7/site-packages/numpy/lib/function_base.py:1074: RuntimeWarning: invalid value encountered in true_divide\n",
      "  c = dx1 / (dx2 * (dx1 + dx2))\n",
      "/Users/peter/anaconda3/lib/python3.7/site-packages/numpy/lib/function_base.py:1080: RuntimeWarning: invalid value encountered in add\n",
      "  out[tuple(slice1)] = a * f[tuple(slice2)] + b * f[tuple(slice3)] + c * f[tuple(slice4)]\n",
      "/Users/peter/anaconda3/lib/python3.7/site-packages/ipykernel_launcher.py:147: UserWarning: This figure includes Axes that are not compatible with tight_layout, so results might be incorrect.\n"
     ]
    },
    {
     "name": "stdout",
     "output_type": "stream",
     "text": [
      "Graphite cycle 2: Average dQ/dV from 0.5 V to 1.0 V = -8.863789509690777\n",
      "Graphite cycle 2: dQ/dV at 0.7 V = -6.464564985501369\n",
      "Carbon black cycle 2: Average dQ/dV from 0.5 V to 1.0 V = -116.22866729229442\n",
      "Carbon black cycle 2: dQ/dV at 0.7 V = -111.08702325168997\n"
     ]
    },
    {
     "data": {
      "image/png": "[encoded data removed]",
      "text/plain": [
       "<Figure size 234x351 with 4 Axes>"
      ]
     },
     "metadata": {
      "needs_background": "light"
     },
     "output_type": "display_data"
    }
   ],
   "source": [
    "fig, ax = plt.subplots(figsize=(fig_width, fig_height*2), nrows=2, ncols=1)\n",
    "\n",
    "# Set main axes labels\n",
    "ax[0].set_title('a', loc='left', weight='bold')\n",
    "ax[1].set_title('b', loc='left', weight='bold')\n",
    "\n",
    "ax[0].set_xlabel('Capacity (mAh g$^{-1}$)')\n",
    "ax[1].set_xlabel('Capacity (mAh g$^{-1}$)')\n",
    "ax[0].set_ylabel('Voltage (V)')\n",
    "ax[1].set_ylabel('Voltage (V)')\n",
    "ax[0].set_xlim([0, 420])\n",
    "ax[1].set_xlim([0, 420])\n",
    "ax[0].set_ylim([0, 1.2])\n",
    "ax[1].set_ylim([0, 1.2])\n",
    "ax[0].xaxis.set_minor_locator(AutoMinorLocator())\n",
    "ax[1].xaxis.set_minor_locator(AutoMinorLocator())\n",
    "ax[0].yaxis.set_minor_locator(AutoMinorLocator())\n",
    "ax[1].yaxis.set_minor_locator(AutoMinorLocator())\n",
    "\n",
    "# Create and set inset properties\n",
    "ax_inset0 = inset_axes(ax[0], width='100%', height='100%',\n",
    "                       bbox_to_anchor=(0.15, 0.6, 0.35, 0.35),\n",
    "                       bbox_transform=ax[0].transAxes,\n",
    "                       loc='upper left')\n",
    "ax_inset1 = inset_axes(ax[1], width='100%', height='100%',\n",
    "                       bbox_to_anchor=(0.6, 0.22, 0.35, 0.34),\n",
    "                       bbox_transform=ax[1].transAxes,\n",
    "                       loc='upper left')\n",
    "ax_inset0.set_xlabel('Voltage (V)', labelpad=-0.1)\n",
    "ax_inset1.set_xlabel('Voltage (V)', labelpad=0)\n",
    "ax_inset0.annotate('dQ/dV', (0.95, 0.95), xycoords='axes fraction',\n",
    "                   horizontalalignment='right', verticalalignment='top')\n",
    "ax_inset1.annotate('dQ/dV', (0.05, 0.05), xycoords='axes fraction',\n",
    "                   horizontalalignment='left', verticalalignment='bottom')\n",
    "ax_inset0.set_xlim([0.5, 0.7])\n",
    "ax_inset1.set_xlim([0.8, 1.0])\n",
    "ax_inset0.xaxis.set_minor_locator(AutoMinorLocator())\n",
    "ax_inset1.xaxis.set_minor_locator(AutoMinorLocator())\n",
    "ax_inset0.set_ylim([-60, 50])\n",
    "ax_inset1.set_ylim([-2400, 250])\n",
    "ax_inset0.get_yaxis().set_ticks([-70, 0, 70])\n",
    "ax_inset1.get_yaxis().set_ticks([-2500, 0])\n",
    "ax_inset0.axhline(0, color='tab:gray')\n",
    "ax_inset1.axhline(0, color='tab:gray')\n",
    "\n",
    "## Graphite\n",
    "\n",
    "colors_blue = cm.Blues(np.linspace(0.9, 0.3, 5))[:,0:3]\n",
    "colors_red  = cm.Reds( np.linspace(0.9, 0.3, 5))[:,0:3]\n",
    "\n",
    "for k, (cycle_num, group) in enumerate(df_graphite.groupby('Cycle_Index')):\n",
    "    \n",
    "    for step, subgroup in group.groupby('Step_Index'):\n",
    "    \n",
    "        # Get Q and V\n",
    "        capacity_type = 'Discharge_Capacity' if step == 1 else 'Charge_Capacity'\n",
    "        Q = subgroup[capacity_type] - subgroup[capacity_type].iloc[0]\n",
    "        V = subgroup['Voltage']\n",
    "    \n",
    "        # Filter\n",
    "        Q_filt = savgol_filter(Q, 11, 1)\n",
    "        V_filt = savgol_filter(V, 11, 1)\n",
    "\n",
    "        # Calculate dQ/dV\n",
    "        dQdV = np.gradient(Q_filt, V_filt)\n",
    "        \n",
    "        # Print average dQ/dV if cycle 2 lith\n",
    "        if cycle_num == 2 and step == 1:\n",
    "            idx1 = np.where(V_filt < 1.0)[0][0]\n",
    "            idx2 = np.where(V_filt < 0.75)[0][0]\n",
    "            idx3 = np.where(V_filt < 0.5)[0][0]\n",
    "            dQdV_reduced = dQdV[idx1:idx3]\n",
    "            dQdV_0pt7V = dQdV[idx2]\n",
    "            print(f'Graphite cycle 2: Average dQ/dV from 0.5 V to 1.0 V = {np.mean(dQdV_reduced)}')\n",
    "            print(f'Graphite cycle 2: dQ/dV at 0.7 V = {dQdV_0pt7V}')\n",
    "        \n",
    "        color = colors_blue[k] if step == 1 else colors_red[k]\n",
    "    \n",
    "        ax[0].plot(Q, V, color=color)\n",
    "        ax_inset0.plot(V_filt, dQdV, color=color)\n",
    "\n",
    "ax[0].legend([(colors_blue[0], colors_red[0]),\n",
    "            (colors_blue[1], colors_red[1]),\n",
    "            (colors_blue[2], colors_red[2]),\n",
    "            (colors_blue[3], colors_red[3]),\n",
    "            (colors_blue[4], colors_red[4])],\n",
    "            ['Cycle 1', 'Cycle 2', 'Cycle 3', 'Cycle 4', 'Cycle 5'],\n",
    "            handler_map={tuple: AnyObjectHandler()},\n",
    "            loc='upper right')\n",
    "\n",
    "\n",
    "## Carbon black\n",
    "\n",
    "for k in np.arange(5):\n",
    "    \n",
    "    Q = Q_CB[k]\n",
    "    V = V_CB[k]\n",
    "    \n",
    "    # Middle index\n",
    "    idx = 50 + np.where(Q[50:] == np.min(Q[50:]))[0][0]\n",
    "        \n",
    "    # Get Q and V\n",
    "    if k == 0:\n",
    "        start_idx = np.where(Q == 0)[0][-1]\n",
    "    else:\n",
    "        start_idx = 0\n",
    "    \n",
    "    Q_lith = Q[start_idx:idx].flatten()\n",
    "    V_lith = V[start_idx:idx].flatten()\n",
    "    Q_delith = Q[idx:].flatten()\n",
    "    V_delith = V[idx:].flatten()\n",
    "        \n",
    "    # Filter\n",
    "    Q_filt_lith = savgol_filter(Q_lith, 301, 3)\n",
    "    V_filt_lith = savgol_filter(V_lith, 301, 3)\n",
    "    Q_filt_delith = savgol_filter(Q_delith, 105, 3)\n",
    "    V_filt_delith = savgol_filter(V_delith, 105, 3)\n",
    "        \n",
    "    # dQ/dV\n",
    "    dQdV_lith = np.gradient(Q_filt_lith, V_filt_lith)\n",
    "    dQdV_delith = np.gradient(Q_filt_delith, V_filt_delith)\n",
    "    \n",
    "    # Print average dQ/dV for cycle 2 lith\n",
    "    if k == 1:\n",
    "        idx1 = np.where(V_filt_lith < 1.0)[0][0]\n",
    "        idx2 = np.where(V_filt_lith < 0.75)[0][0]\n",
    "        idx3 = np.where(V_filt_lith < 0.5)[0][0]\n",
    "        dQdV_lith_reduced = dQdV_lith[idx1:idx3]\n",
    "        dQdV_lith_0pt7V = dQdV_lith[idx2]\n",
    "        print(f'Carbon black cycle 2: Average dQ/dV from 0.5 V to 1.0 V = {np.mean(dQdV_lith_reduced)}')\n",
    "        print(f'Carbon black cycle 2: dQ/dV at 0.7 V = {dQdV_lith_0pt7V}')\n",
    "    \n",
    "    ax[1].plot(Q_lith, V_lith, color=colors_blue[k])\n",
    "    ax[1].plot(Q_delith, V_delith, color=colors_red[k])\n",
    "    ax_inset1.plot(V_filt_lith, dQdV_lith, color=colors_blue[k])\n",
    "    ax_inset1.plot(V_filt_delith, dQdV_delith, color=colors_red[k])\n",
    "    \n",
    "ax[1].legend([(colors_blue[0], colors_red[0]),\n",
    "            (colors_blue[1], colors_red[1]),\n",
    "            (colors_blue[2], colors_red[2]),\n",
    "            (colors_blue[3], colors_red[3]),\n",
    "            (colors_blue[4], colors_red[4])],\n",
    "            ['Cycle 1', 'Cycle 2', 'Cycle 3', 'Cycle 4', 'Cycle 5'],\n",
    "            handler_map={tuple: AnyObjectHandler()},\n",
    "            loc='upper right')\n",
    "\n",
    "plt.tight_layout()\n",
    "plt.savefig(figpath / 'carbon_comparison.eps', bbox_inches='tight', format='eps')"
   ]
  },
  {
   "cell_type": "markdown",
   "metadata": {},
   "source": [
    "How much bigger is dQ/dV between 0.5 V and 1.0 V (and thus Q) for CB than graphite?"
   ]
  },
  {
   "cell_type": "code",
   "execution_count": 15,
   "metadata": {},
   "outputs": [
    {
     "data": {
      "text/plain": [
       "13.112751286029713"
      ]
     },
     "execution_count": 15,
     "metadata": {},
     "output_type": "execute_result"
    }
   ],
   "source": [
    "-116.22866729229442 / -8.863789509690777"
   ]
  }
 ],
 "metadata": {
  "kernelspec": {
   "display_name": "Python 3",
   "language": "python",
   "name": "python3"
  },
  "language_info": {
   "codemirror_mode": {
    "name": "ipython",
    "version": 3
   },
   "file_extension": ".py",
   "mimetype": "text/x-python",
   "name": "python",
   "nbconvert_exporter": "python",
   "pygments_lexer": "ipython3",
   "version": "3.7.9"
  }
 },
 "nbformat": 4,
 "nbformat_minor": 4
}
